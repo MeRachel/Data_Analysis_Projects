{
 "cells": [
  {
   "cell_type": "markdown",
   "id": "9859b081",
   "metadata": {},
   "source": [
    "#### ABOUT\n",
    "The dataset used below has been scrapped from 'https://www.99acres.com'. The data consists of information about the properties that are supposed to be on rent across various locations in Bengaluru, India.   "
   ]
  },
  {
   "cell_type": "markdown",
   "id": "8b720932",
   "metadata": {},
   "source": [
    "#### Import the relevant libraries"
   ]
  },
  {
   "cell_type": "code",
   "execution_count": 1,
   "id": "699bb60b",
   "metadata": {},
   "outputs": [],
   "source": [
    "import pandas as pd\n",
    "import numpy as np\n",
    "import seaborn as sns\n",
    "import missingno as msno\n",
    "import matplotlib.pyplot as plt\n",
    "%matplotlib inline"
   ]
  },
  {
   "cell_type": "code",
   "execution_count": 2,
   "id": "0f75a349",
   "metadata": {},
   "outputs": [],
   "source": [
    "import warnings\n",
    "warnings.filterwarnings('ignore')"
   ]
  },
  {
   "cell_type": "code",
   "execution_count": 3,
   "id": "2738b075",
   "metadata": {},
   "outputs": [
    {
     "data": {
      "text/html": [
       "<div>\n",
       "<style scoped>\n",
       "    .dataframe tbody tr th:only-of-type {\n",
       "        vertical-align: middle;\n",
       "    }\n",
       "\n",
       "    .dataframe tbody tr th {\n",
       "        vertical-align: top;\n",
       "    }\n",
       "\n",
       "    .dataframe thead th {\n",
       "        text-align: right;\n",
       "    }\n",
       "</style>\n",
       "<table border=\"1\" class=\"dataframe\">\n",
       "  <thead>\n",
       "    <tr style=\"text-align: right;\">\n",
       "      <th></th>\n",
       "      <th>Unnamed: 0</th>\n",
       "      <th>Property_Name</th>\n",
       "      <th>About</th>\n",
       "      <th>Rent</th>\n",
       "      <th>Area</th>\n",
       "      <th>Bedrooms</th>\n",
       "      <th>Bathroom</th>\n",
       "      <th>Posted_By</th>\n",
       "    </tr>\n",
       "  </thead>\n",
       "  <tbody>\n",
       "    <tr>\n",
       "      <th>0</th>\n",
       "      <td>0</td>\n",
       "      <td>NaN</td>\n",
       "      <td>NaN</td>\n",
       "      <td>NaN</td>\n",
       "      <td>NaN</td>\n",
       "      <td>NaN</td>\n",
       "      <td>NaN</td>\n",
       "      <td>NaN</td>\n",
       "    </tr>\n",
       "    <tr>\n",
       "      <th>1</th>\n",
       "      <td>1</td>\n",
       "      <td>Nestaway-5483</td>\n",
       "      <td>3 BHK Residential Apartment for rent in KR Puram</td>\n",
       "      <td>₹ 30,000 /monthDeposit ₹ 60000</td>\n",
       "      <td>1,400 sq.ft. (130 sq.m.) Built-up Area</td>\n",
       "      <td>3 BHK1 Bath</td>\n",
       "      <td>1 Bath</td>\n",
       "      <td>Posted on 07th Jun, 2021 by Dealer</td>\n",
       "    </tr>\n",
       "    <tr>\n",
       "      <th>2</th>\n",
       "      <td>2</td>\n",
       "      <td>sterling shalom</td>\n",
       "      <td>3 BHK Residential Apartment for rent in Kundal...</td>\n",
       "      <td>₹ 30,000 /month</td>\n",
       "      <td>1,781 sq.ft. (165 sq.m.) Built-up Area</td>\n",
       "      <td>3 BHK3 Baths</td>\n",
       "      <td>3 Baths</td>\n",
       "      <td>Posted on 08th Jul, 2021 by Owner</td>\n",
       "    </tr>\n",
       "    <tr>\n",
       "      <th>3</th>\n",
       "      <td>3</td>\n",
       "      <td>M3 Neptune</td>\n",
       "      <td>2 BHK Residential Apartment for rent in Vignan...</td>\n",
       "      <td>₹ 17,000 /monthDeposit ₹ 100000</td>\n",
       "      <td>1,175 sq.ft. (109 sq.m.) Built-up Area</td>\n",
       "      <td>2 BHK2 Baths</td>\n",
       "      <td>2 Baths</td>\n",
       "      <td>Posted on 05th Jul, 2021 by Owner</td>\n",
       "    </tr>\n",
       "    <tr>\n",
       "      <th>4</th>\n",
       "      <td>4</td>\n",
       "      <td>Navya Nest</td>\n",
       "      <td>3 BHK Residential Apartment for rent in Ejipura</td>\n",
       "      <td>₹ 28,000 /monthDeposit ₹ 200000</td>\n",
       "      <td>1,420 sq.ft. (132 sq.m.) Carpet Area</td>\n",
       "      <td>3 BHK2 Baths</td>\n",
       "      <td>2 Baths</td>\n",
       "      <td>Posted on 08th Jul, 2021 by Owner</td>\n",
       "    </tr>\n",
       "    <tr>\n",
       "      <th>...</th>\n",
       "      <td>...</td>\n",
       "      <td>...</td>\n",
       "      <td>...</td>\n",
       "      <td>...</td>\n",
       "      <td>...</td>\n",
       "      <td>...</td>\n",
       "      <td>...</td>\n",
       "      <td>...</td>\n",
       "    </tr>\n",
       "    <tr>\n",
       "      <th>8951</th>\n",
       "      <td>8951</td>\n",
       "      <td>NaN</td>\n",
       "      <td>1 BHK Independent Builder Floor for rent in Ku...</td>\n",
       "      <td>₹ 15,000 /monthDeposit 10 month(s) rent</td>\n",
       "      <td>1,000 sq.ft. (93 sq.m.) Built-up Area</td>\n",
       "      <td>1 BHK1 Bath</td>\n",
       "      <td>1 Bath</td>\n",
       "      <td>Posted on 27th Jun, 2021 by Dealer</td>\n",
       "    </tr>\n",
       "    <tr>\n",
       "      <th>8952</th>\n",
       "      <td>8952</td>\n",
       "      <td>NaN</td>\n",
       "      <td>3 BHK Independent Builder Floor for rent in ku...</td>\n",
       "      <td>₹ 45,000 /monthDeposit 10 month(s) rent</td>\n",
       "      <td>1,800 sq.ft. (167 sq.m.) Built-up Area</td>\n",
       "      <td>3 BHK2 Baths</td>\n",
       "      <td>2 Baths</td>\n",
       "      <td>Posted on 27th Jun, 2021 by Dealer</td>\n",
       "    </tr>\n",
       "    <tr>\n",
       "      <th>8953</th>\n",
       "      <td>8953</td>\n",
       "      <td>Shilpa Tallam Residency</td>\n",
       "      <td>3 BHK Residential Apartment for rent in Kumara...</td>\n",
       "      <td>₹ 45,000 /monthDeposit 10 month(s) rent</td>\n",
       "      <td>1,800 sq.ft. (167 sq.m.) Built-up Area</td>\n",
       "      <td>3 BHK3 Baths</td>\n",
       "      <td>3 Baths</td>\n",
       "      <td>Posted on 27th Jun, 2021 by Dealer</td>\n",
       "    </tr>\n",
       "    <tr>\n",
       "      <th>8954</th>\n",
       "      <td>8954</td>\n",
       "      <td>Shilpa Tallam Residency</td>\n",
       "      <td>2 BHK Residential Apartment for rent in Kumara...</td>\n",
       "      <td>₹ 25,000 /monthDeposit 10 month(s) rent</td>\n",
       "      <td>1,500 sq.ft. (139 sq.m.) Built-up Area</td>\n",
       "      <td>2 BHK2 Baths</td>\n",
       "      <td>2 Baths</td>\n",
       "      <td>Posted on 27th Jun, 2021 by Dealer</td>\n",
       "    </tr>\n",
       "    <tr>\n",
       "      <th>8955</th>\n",
       "      <td>8955</td>\n",
       "      <td>NaN</td>\n",
       "      <td>2 BHK Independent Builder Floor for rent in ku...</td>\n",
       "      <td>₹ 26,000 /monthDeposit 10 month(s) rent</td>\n",
       "      <td>1,500 sq.ft. (139 sq.m.) Built-up Area</td>\n",
       "      <td>2 BHK2 Baths</td>\n",
       "      <td>2 Baths</td>\n",
       "      <td>Posted on 27th Jun, 2021 by Dealer</td>\n",
       "    </tr>\n",
       "  </tbody>\n",
       "</table>\n",
       "<p>8956 rows × 8 columns</p>\n",
       "</div>"
      ],
      "text/plain": [
       "      Unnamed: 0            Property_Name  \\\n",
       "0              0                      NaN   \n",
       "1              1            Nestaway-5483   \n",
       "2              2          sterling shalom   \n",
       "3              3               M3 Neptune   \n",
       "4              4               Navya Nest   \n",
       "...          ...                      ...   \n",
       "8951        8951                      NaN   \n",
       "8952        8952                      NaN   \n",
       "8953        8953  Shilpa Tallam Residency   \n",
       "8954        8954  Shilpa Tallam Residency   \n",
       "8955        8955                      NaN   \n",
       "\n",
       "                                                  About  \\\n",
       "0                                                   NaN   \n",
       "1      3 BHK Residential Apartment for rent in KR Puram   \n",
       "2     3 BHK Residential Apartment for rent in Kundal...   \n",
       "3     2 BHK Residential Apartment for rent in Vignan...   \n",
       "4       3 BHK Residential Apartment for rent in Ejipura   \n",
       "...                                                 ...   \n",
       "8951  1 BHK Independent Builder Floor for rent in Ku...   \n",
       "8952  3 BHK Independent Builder Floor for rent in ku...   \n",
       "8953  3 BHK Residential Apartment for rent in Kumara...   \n",
       "8954  2 BHK Residential Apartment for rent in Kumara...   \n",
       "8955  2 BHK Independent Builder Floor for rent in ku...   \n",
       "\n",
       "                                         Rent  \\\n",
       "0                                         NaN   \n",
       "1              ₹ 30,000 /monthDeposit ₹ 60000   \n",
       "2                             ₹ 30,000 /month   \n",
       "3             ₹ 17,000 /monthDeposit ₹ 100000   \n",
       "4             ₹ 28,000 /monthDeposit ₹ 200000   \n",
       "...                                       ...   \n",
       "8951  ₹ 15,000 /monthDeposit 10 month(s) rent   \n",
       "8952  ₹ 45,000 /monthDeposit 10 month(s) rent   \n",
       "8953  ₹ 45,000 /monthDeposit 10 month(s) rent   \n",
       "8954  ₹ 25,000 /monthDeposit 10 month(s) rent   \n",
       "8955  ₹ 26,000 /monthDeposit 10 month(s) rent   \n",
       "\n",
       "                                        Area      Bedrooms Bathroom  \\\n",
       "0                                        NaN           NaN      NaN   \n",
       "1     1,400 sq.ft. (130 sq.m.) Built-up Area   3 BHK1 Bath   1 Bath   \n",
       "2     1,781 sq.ft. (165 sq.m.) Built-up Area  3 BHK3 Baths  3 Baths   \n",
       "3     1,175 sq.ft. (109 sq.m.) Built-up Area  2 BHK2 Baths  2 Baths   \n",
       "4       1,420 sq.ft. (132 sq.m.) Carpet Area  3 BHK2 Baths  2 Baths   \n",
       "...                                      ...           ...      ...   \n",
       "8951   1,000 sq.ft. (93 sq.m.) Built-up Area   1 BHK1 Bath   1 Bath   \n",
       "8952  1,800 sq.ft. (167 sq.m.) Built-up Area  3 BHK2 Baths  2 Baths   \n",
       "8953  1,800 sq.ft. (167 sq.m.) Built-up Area  3 BHK3 Baths  3 Baths   \n",
       "8954  1,500 sq.ft. (139 sq.m.) Built-up Area  2 BHK2 Baths  2 Baths   \n",
       "8955  1,500 sq.ft. (139 sq.m.) Built-up Area  2 BHK2 Baths  2 Baths   \n",
       "\n",
       "                               Posted_By  \n",
       "0                                    NaN  \n",
       "1     Posted on 07th Jun, 2021 by Dealer  \n",
       "2      Posted on 08th Jul, 2021 by Owner  \n",
       "3      Posted on 05th Jul, 2021 by Owner  \n",
       "4      Posted on 08th Jul, 2021 by Owner  \n",
       "...                                  ...  \n",
       "8951  Posted on 27th Jun, 2021 by Dealer  \n",
       "8952  Posted on 27th Jun, 2021 by Dealer  \n",
       "8953  Posted on 27th Jun, 2021 by Dealer  \n",
       "8954  Posted on 27th Jun, 2021 by Dealer  \n",
       "8955  Posted on 27th Jun, 2021 by Dealer  \n",
       "\n",
       "[8956 rows x 8 columns]"
      ]
     },
     "execution_count": 3,
     "metadata": {},
     "output_type": "execute_result"
    }
   ],
   "source": [
    "data=pd.read_csv('Real_Estate.csv')\n",
    "data"
   ]
  },
  {
   "cell_type": "code",
   "execution_count": 4,
   "id": "510d5f93",
   "metadata": {},
   "outputs": [],
   "source": [
    "data.drop(index=0,axis=0,inplace=True)"
   ]
  },
  {
   "cell_type": "code",
   "execution_count": 5,
   "id": "6b9d3438",
   "metadata": {},
   "outputs": [
    {
     "data": {
      "text/plain": [
       "Index(['Unnamed: 0', 'Property_Name', 'About', 'Rent', 'Area', 'Bedrooms',\n",
       "       'Bathroom', 'Posted_By'],\n",
       "      dtype='object')"
      ]
     },
     "execution_count": 5,
     "metadata": {},
     "output_type": "execute_result"
    }
   ],
   "source": [
    "data.columns"
   ]
  },
  {
   "cell_type": "code",
   "execution_count": 6,
   "id": "5f0f2699",
   "metadata": {},
   "outputs": [],
   "source": [
    "data.drop(labels='Unnamed: 0',axis=1,inplace=True)"
   ]
  },
  {
   "cell_type": "code",
   "execution_count": 7,
   "id": "ad6e714a",
   "metadata": {},
   "outputs": [
    {
     "data": {
      "text/html": [
       "<div>\n",
       "<style scoped>\n",
       "    .dataframe tbody tr th:only-of-type {\n",
       "        vertical-align: middle;\n",
       "    }\n",
       "\n",
       "    .dataframe tbody tr th {\n",
       "        vertical-align: top;\n",
       "    }\n",
       "\n",
       "    .dataframe thead th {\n",
       "        text-align: right;\n",
       "    }\n",
       "</style>\n",
       "<table border=\"1\" class=\"dataframe\">\n",
       "  <thead>\n",
       "    <tr style=\"text-align: right;\">\n",
       "      <th></th>\n",
       "      <th>Property_Name</th>\n",
       "      <th>About</th>\n",
       "      <th>Rent</th>\n",
       "      <th>Area</th>\n",
       "      <th>Bedrooms</th>\n",
       "      <th>Bathroom</th>\n",
       "      <th>Posted_By</th>\n",
       "    </tr>\n",
       "  </thead>\n",
       "  <tbody>\n",
       "    <tr>\n",
       "      <th>1</th>\n",
       "      <td>Nestaway-5483</td>\n",
       "      <td>3 BHK Residential Apartment for rent in KR Puram</td>\n",
       "      <td>₹ 30,000 /monthDeposit ₹ 60000</td>\n",
       "      <td>1,400 sq.ft. (130 sq.m.) Built-up Area</td>\n",
       "      <td>3 BHK1 Bath</td>\n",
       "      <td>1 Bath</td>\n",
       "      <td>Posted on 07th Jun, 2021 by Dealer</td>\n",
       "    </tr>\n",
       "    <tr>\n",
       "      <th>2</th>\n",
       "      <td>sterling shalom</td>\n",
       "      <td>3 BHK Residential Apartment for rent in Kundal...</td>\n",
       "      <td>₹ 30,000 /month</td>\n",
       "      <td>1,781 sq.ft. (165 sq.m.) Built-up Area</td>\n",
       "      <td>3 BHK3 Baths</td>\n",
       "      <td>3 Baths</td>\n",
       "      <td>Posted on 08th Jul, 2021 by Owner</td>\n",
       "    </tr>\n",
       "    <tr>\n",
       "      <th>3</th>\n",
       "      <td>M3 Neptune</td>\n",
       "      <td>2 BHK Residential Apartment for rent in Vignan...</td>\n",
       "      <td>₹ 17,000 /monthDeposit ₹ 100000</td>\n",
       "      <td>1,175 sq.ft. (109 sq.m.) Built-up Area</td>\n",
       "      <td>2 BHK2 Baths</td>\n",
       "      <td>2 Baths</td>\n",
       "      <td>Posted on 05th Jul, 2021 by Owner</td>\n",
       "    </tr>\n",
       "    <tr>\n",
       "      <th>4</th>\n",
       "      <td>Navya Nest</td>\n",
       "      <td>3 BHK Residential Apartment for rent in Ejipura</td>\n",
       "      <td>₹ 28,000 /monthDeposit ₹ 200000</td>\n",
       "      <td>1,420 sq.ft. (132 sq.m.) Carpet Area</td>\n",
       "      <td>3 BHK2 Baths</td>\n",
       "      <td>2 Baths</td>\n",
       "      <td>Posted on 08th Jul, 2021 by Owner</td>\n",
       "    </tr>\n",
       "    <tr>\n",
       "      <th>5</th>\n",
       "      <td>nova residency</td>\n",
       "      <td>2 BHK Residential Apartment for rent in Mahade...</td>\n",
       "      <td>₹ 18,000 /monthDeposit ₹ 100000</td>\n",
       "      <td>1,500 sq.ft. (139 sq.m.) Built-up Area</td>\n",
       "      <td>2 BHK2 Baths</td>\n",
       "      <td>2 Baths</td>\n",
       "      <td>Posted on 05th Jul, 2021 by Owner</td>\n",
       "    </tr>\n",
       "  </tbody>\n",
       "</table>\n",
       "</div>"
      ],
      "text/plain": [
       "     Property_Name                                              About  \\\n",
       "1    Nestaway-5483   3 BHK Residential Apartment for rent in KR Puram   \n",
       "2  sterling shalom  3 BHK Residential Apartment for rent in Kundal...   \n",
       "3       M3 Neptune  2 BHK Residential Apartment for rent in Vignan...   \n",
       "4       Navya Nest    3 BHK Residential Apartment for rent in Ejipura   \n",
       "5   nova residency  2 BHK Residential Apartment for rent in Mahade...   \n",
       "\n",
       "                              Rent                                    Area  \\\n",
       "1   ₹ 30,000 /monthDeposit ₹ 60000  1,400 sq.ft. (130 sq.m.) Built-up Area   \n",
       "2                  ₹ 30,000 /month  1,781 sq.ft. (165 sq.m.) Built-up Area   \n",
       "3  ₹ 17,000 /monthDeposit ₹ 100000  1,175 sq.ft. (109 sq.m.) Built-up Area   \n",
       "4  ₹ 28,000 /monthDeposit ₹ 200000    1,420 sq.ft. (132 sq.m.) Carpet Area   \n",
       "5  ₹ 18,000 /monthDeposit ₹ 100000  1,500 sq.ft. (139 sq.m.) Built-up Area   \n",
       "\n",
       "       Bedrooms Bathroom                           Posted_By  \n",
       "1   3 BHK1 Bath   1 Bath  Posted on 07th Jun, 2021 by Dealer  \n",
       "2  3 BHK3 Baths  3 Baths   Posted on 08th Jul, 2021 by Owner  \n",
       "3  2 BHK2 Baths  2 Baths   Posted on 05th Jul, 2021 by Owner  \n",
       "4  3 BHK2 Baths  2 Baths   Posted on 08th Jul, 2021 by Owner  \n",
       "5  2 BHK2 Baths  2 Baths   Posted on 05th Jul, 2021 by Owner  "
      ]
     },
     "execution_count": 7,
     "metadata": {},
     "output_type": "execute_result"
    }
   ],
   "source": [
    "data.head(5)"
   ]
  },
  {
   "cell_type": "code",
   "execution_count": 8,
   "id": "32db0a4e",
   "metadata": {},
   "outputs": [
    {
     "data": {
      "text/html": [
       "<div>\n",
       "<style scoped>\n",
       "    .dataframe tbody tr th:only-of-type {\n",
       "        vertical-align: middle;\n",
       "    }\n",
       "\n",
       "    .dataframe tbody tr th {\n",
       "        vertical-align: top;\n",
       "    }\n",
       "\n",
       "    .dataframe thead th {\n",
       "        text-align: right;\n",
       "    }\n",
       "</style>\n",
       "<table border=\"1\" class=\"dataframe\">\n",
       "  <thead>\n",
       "    <tr style=\"text-align: right;\">\n",
       "      <th></th>\n",
       "      <th>Property_Name</th>\n",
       "      <th>About</th>\n",
       "      <th>Rent</th>\n",
       "      <th>Area</th>\n",
       "      <th>Bedrooms</th>\n",
       "      <th>Bathroom</th>\n",
       "      <th>Posted_By</th>\n",
       "    </tr>\n",
       "  </thead>\n",
       "  <tbody>\n",
       "    <tr>\n",
       "      <th>count</th>\n",
       "      <td>4894</td>\n",
       "      <td>8955</td>\n",
       "      <td>8955</td>\n",
       "      <td>8955</td>\n",
       "      <td>8921</td>\n",
       "      <td>8785</td>\n",
       "      <td>8955</td>\n",
       "    </tr>\n",
       "    <tr>\n",
       "      <th>unique</th>\n",
       "      <td>3376</td>\n",
       "      <td>3856</td>\n",
       "      <td>1984</td>\n",
       "      <td>1638</td>\n",
       "      <td>42</td>\n",
       "      <td>9</td>\n",
       "      <td>125</td>\n",
       "    </tr>\n",
       "    <tr>\n",
       "      <th>top</th>\n",
       "      <td>on request</td>\n",
       "      <td>2 BHK Residential Apartment for rent in Whitef...</td>\n",
       "      <td>₹ 20,000 /monthDeposit ₹ 100000</td>\n",
       "      <td>600 sq.ft. (56 sq.m.) Built-up Area</td>\n",
       "      <td>2 BHK2 Baths</td>\n",
       "      <td>2 Baths</td>\n",
       "      <td>Posted on 05th Jul, 2021 by Owner</td>\n",
       "    </tr>\n",
       "    <tr>\n",
       "      <th>freq</th>\n",
       "      <td>153</td>\n",
       "      <td>94</td>\n",
       "      <td>128</td>\n",
       "      <td>353</td>\n",
       "      <td>3394</td>\n",
       "      <td>4053</td>\n",
       "      <td>657</td>\n",
       "    </tr>\n",
       "  </tbody>\n",
       "</table>\n",
       "</div>"
      ],
      "text/plain": [
       "       Property_Name                                              About  \\\n",
       "count           4894                                               8955   \n",
       "unique          3376                                               3856   \n",
       "top       on request  2 BHK Residential Apartment for rent in Whitef...   \n",
       "freq             153                                                 94   \n",
       "\n",
       "                                   Rent                                 Area  \\\n",
       "count                              8955                                 8955   \n",
       "unique                             1984                                 1638   \n",
       "top     ₹ 20,000 /monthDeposit ₹ 100000  600 sq.ft. (56 sq.m.) Built-up Area   \n",
       "freq                                128                                  353   \n",
       "\n",
       "            Bedrooms Bathroom                          Posted_By  \n",
       "count           8921     8785                               8955  \n",
       "unique            42        9                                125  \n",
       "top     2 BHK2 Baths  2 Baths  Posted on 05th Jul, 2021 by Owner  \n",
       "freq            3394     4053                                657  "
      ]
     },
     "execution_count": 8,
     "metadata": {},
     "output_type": "execute_result"
    }
   ],
   "source": [
    "data.describe()"
   ]
  },
  {
   "cell_type": "code",
   "execution_count": 9,
   "id": "6aa7013e",
   "metadata": {},
   "outputs": [
    {
     "name": "stdout",
     "output_type": "stream",
     "text": [
      "<class 'pandas.core.frame.DataFrame'>\n",
      "Int64Index: 8955 entries, 1 to 8955\n",
      "Data columns (total 7 columns):\n",
      " #   Column         Non-Null Count  Dtype \n",
      "---  ------         --------------  ----- \n",
      " 0   Property_Name  4894 non-null   object\n",
      " 1   About          8955 non-null   object\n",
      " 2   Rent           8955 non-null   object\n",
      " 3   Area           8955 non-null   object\n",
      " 4   Bedrooms       8921 non-null   object\n",
      " 5   Bathroom       8785 non-null   object\n",
      " 6   Posted_By      8955 non-null   object\n",
      "dtypes: object(7)\n",
      "memory usage: 559.7+ KB\n"
     ]
    }
   ],
   "source": [
    "data.info()"
   ]
  },
  {
   "cell_type": "markdown",
   "id": "3a243f57",
   "metadata": {},
   "source": [
    "#### Find the columns having null values"
   ]
  },
  {
   "cell_type": "code",
   "execution_count": 10,
   "id": "ccd6a3b2",
   "metadata": {},
   "outputs": [
    {
     "data": {
      "text/plain": [
       "<AxesSubplot:>"
      ]
     },
     "execution_count": 10,
     "metadata": {},
     "output_type": "execute_result"
    },
    {
     "data": {
      "image/png": "[encoded data removed]",
      "text/plain": [
       "<Figure size 1728x720 with 3 Axes>"
      ]
     },
     "metadata": {
      "needs_background": "light"
     },
     "output_type": "display_data"
    }
   ],
   "source": [
    "msno.bar(data,color='g',sort='ascending')"
   ]
  },
  {
   "cell_type": "code",
   "execution_count": 11,
   "id": "e5349c92",
   "metadata": {},
   "outputs": [],
   "source": [
    "data=data.dropna(axis=0,subset=['Rent','Bedrooms','Bathroom'])\n",
    "# To delete all the rows where 'Rent', 'Bedrooms', 'Bathroom' all three are NaN"
   ]
  },
  {
   "cell_type": "markdown",
   "id": "41d48673",
   "metadata": {},
   "source": [
    "#### DATA CLEANING"
   ]
  },
  {
   "cell_type": "markdown",
   "id": "989adc9c",
   "metadata": {},
   "source": [
    "#### 1. About"
   ]
  },
  {
   "cell_type": "code",
   "execution_count": 12,
   "id": "5aef6b8e",
   "metadata": {},
   "outputs": [],
   "source": [
    "def prop_type(p):\n",
    "    if 'Residential' in p:\n",
    "        return 'Residential Apartment'\n",
    "    if 'Independent' in p:\n",
    "        return 'Independent House'\n",
    "    if 'Studio' in p:\n",
    "        return 'Studio Apartment'\n",
    "    if 'Serviced' in p:\n",
    "        return 'Serviced Apartment'\n",
    "    if 'Farm' in p:\n",
    "        return 'Farm House'"
   ]
  },
  {
   "cell_type": "code",
   "execution_count": 13,
   "id": "d2abc01e",
   "metadata": {},
   "outputs": [],
   "source": [
    "data['About']=data['About'].apply(lambda x:x.split(' '))"
   ]
  },
  {
   "cell_type": "code",
   "execution_count": 14,
   "id": "613ddd85",
   "metadata": {},
   "outputs": [],
   "source": [
    "data['Prop_Type']=data['About'].apply(prop_type)"
   ]
  },
  {
   "cell_type": "code",
   "execution_count": 15,
   "id": "ca4de426",
   "metadata": {},
   "outputs": [],
   "source": [
    "def loca(l):\n",
    "    for i in range(len(l)):\n",
    "        if l[i]=='in':\n",
    "            lc=l[i+1:]\n",
    "            return lc"
   ]
  },
  {
   "cell_type": "code",
   "execution_count": 16,
   "id": "40f6194e",
   "metadata": {},
   "outputs": [],
   "source": [
    "data['Location']=data['About'].apply(loca)"
   ]
  },
  {
   "cell_type": "code",
   "execution_count": 17,
   "id": "41aaf120",
   "metadata": {},
   "outputs": [],
   "source": [
    "def loc_1(l):\n",
    "    lc=''\n",
    "    for i in range(len(l)):\n",
    "        lc=lc+\" \"+l[i]\n",
    "    return lc"
   ]
  },
  {
   "cell_type": "code",
   "execution_count": 18,
   "id": "5687499c",
   "metadata": {},
   "outputs": [],
   "source": [
    "data['Location']=data['Location'].apply(loc_1)"
   ]
  },
  {
   "cell_type": "code",
   "execution_count": 19,
   "id": "61ce212a",
   "metadata": {},
   "outputs": [
    {
     "data": {
      "text/plain": [
       "0"
      ]
     },
     "execution_count": 19,
     "metadata": {},
     "output_type": "execute_result"
    }
   ],
   "source": [
    "data['Location'].isnull().sum()"
   ]
  },
  {
   "cell_type": "markdown",
   "id": "7da4f25f",
   "metadata": {},
   "source": [
    "#### 2. Rent"
   ]
  },
  {
   "cell_type": "code",
   "execution_count": 20,
   "id": "cc75eaeb",
   "metadata": {},
   "outputs": [],
   "source": [
    "data['Rent']=data['Rent'].apply(lambda x:x.split('/'))"
   ]
  },
  {
   "cell_type": "code",
   "execution_count": 21,
   "id": "c6b40583",
   "metadata": {},
   "outputs": [],
   "source": [
    "def rent(r):\n",
    "    for i in range(len(r)):\n",
    "        return r[0]"
   ]
  },
  {
   "cell_type": "code",
   "execution_count": 22,
   "id": "fdc2d6ea",
   "metadata": {},
   "outputs": [],
   "source": [
    "data['Rent']=data['Rent'].apply(rent)"
   ]
  },
  {
   "cell_type": "code",
   "execution_count": 23,
   "id": "7f17d2db",
   "metadata": {},
   "outputs": [],
   "source": [
    "data['Rent']=data['Rent'].str.split(' ')"
   ]
  },
  {
   "cell_type": "code",
   "execution_count": 24,
   "id": "eaf18fa4",
   "metadata": {},
   "outputs": [],
   "source": [
    "def rent_1(r):\n",
    "    for i in range(len(r)):\n",
    "        return r[1]"
   ]
  },
  {
   "cell_type": "code",
   "execution_count": 25,
   "id": "71a69eb3",
   "metadata": {},
   "outputs": [],
   "source": [
    "data['Rent']=data['Rent'].apply(rent_1)"
   ]
  },
  {
   "cell_type": "code",
   "execution_count": 26,
   "id": "df93c072",
   "metadata": {},
   "outputs": [],
   "source": [
    "data['Rent']=data['Rent'].str.replace(',','')"
   ]
  },
  {
   "cell_type": "code",
   "execution_count": 27,
   "id": "a2d77000",
   "metadata": {},
   "outputs": [],
   "source": [
    "data['Rent']=data['Rent'].str.replace('on','NaN')"
   ]
  },
  {
   "cell_type": "code",
   "execution_count": 28,
   "id": "2ff42929",
   "metadata": {},
   "outputs": [],
   "source": [
    "data['Rent']=data['Rent'].apply(lambda x:float(x))"
   ]
  },
  {
   "cell_type": "code",
   "execution_count": 29,
   "id": "3be8c615",
   "metadata": {},
   "outputs": [],
   "source": [
    "def rent_2(re):\n",
    "    if re<100:\n",
    "        return re*100000\n",
    "    else:\n",
    "        return re"
   ]
  },
  {
   "cell_type": "code",
   "execution_count": 30,
   "id": "28776c14",
   "metadata": {},
   "outputs": [],
   "source": [
    "data['Rent']=data['Rent'].apply(rent_2)"
   ]
  },
  {
   "cell_type": "code",
   "execution_count": 31,
   "id": "65058db8",
   "metadata": {},
   "outputs": [
    {
     "data": {
      "text/plain": [
       "<AxesSubplot:>"
      ]
     },
     "execution_count": 31,
     "metadata": {},
     "output_type": "execute_result"
    },
    {
     "data": {
      "image/png": "[encoded data removed]",
      "text/plain": [
       "<Figure size 432x288 with 1 Axes>"
      ]
     },
     "metadata": {
      "needs_background": "light"
     },
     "output_type": "display_data"
    }
   ],
   "source": [
    "data['Rent'].hist()"
   ]
  },
  {
   "cell_type": "code",
   "execution_count": 32,
   "id": "1a57b92e",
   "metadata": {},
   "outputs": [
    {
     "data": {
      "text/plain": [
       "46"
      ]
     },
     "execution_count": 32,
     "metadata": {},
     "output_type": "execute_result"
    }
   ],
   "source": [
    "data['Rent'].isnull().sum()"
   ]
  },
  {
   "cell_type": "code",
   "execution_count": 33,
   "id": "f1065cdf",
   "metadata": {},
   "outputs": [],
   "source": [
    "def inpute_mean(series):\n",
    "    return series.fillna(series.mean())"
   ]
  },
  {
   "cell_type": "code",
   "execution_count": 34,
   "id": "8a7d5055",
   "metadata": {},
   "outputs": [],
   "source": [
    "data['Rent/month']=data['Rent'].transform(inpute_mean)"
   ]
  },
  {
   "cell_type": "code",
   "execution_count": 35,
   "id": "eecc744a",
   "metadata": {},
   "outputs": [],
   "source": [
    "data['Rent/month']=data['Rent/month'].apply(lambda x:int(x))"
   ]
  },
  {
   "cell_type": "markdown",
   "id": "ec0c94e4",
   "metadata": {},
   "source": [
    "#### Bedrooms"
   ]
  },
  {
   "cell_type": "code",
   "execution_count": 36,
   "id": "773612fb",
   "metadata": {},
   "outputs": [
    {
     "data": {
      "text/plain": [
       "1        [3, BHK1, Bath]\n",
       "2       [3, BHK3, Baths]\n",
       "3       [2, BHK2, Baths]\n",
       "4       [3, BHK2, Baths]\n",
       "5       [2, BHK2, Baths]\n",
       "              ...       \n",
       "8951     [1, BHK1, Bath]\n",
       "8952    [3, BHK2, Baths]\n",
       "8953    [3, BHK3, Baths]\n",
       "8954    [2, BHK2, Baths]\n",
       "8955    [2, BHK2, Baths]\n",
       "Name: Bedrooms, Length: 8785, dtype: object"
      ]
     },
     "execution_count": 36,
     "metadata": {},
     "output_type": "execute_result"
    }
   ],
   "source": [
    "data['Bedrooms'].str.split(' ')"
   ]
  },
  {
   "cell_type": "code",
   "execution_count": 37,
   "id": "2a053c8e",
   "metadata": {},
   "outputs": [],
   "source": [
    "def bed_no(bd):\n",
    "    if isinstance(bd,str):\n",
    "        return bd[0]"
   ]
  },
  {
   "cell_type": "code",
   "execution_count": 38,
   "id": "1c3ba75f",
   "metadata": {},
   "outputs": [],
   "source": [
    "data['Bedroom_No.']=data['Bedrooms'].apply(bed_no)"
   ]
  },
  {
   "cell_type": "code",
   "execution_count": 39,
   "id": "b15581c0",
   "metadata": {},
   "outputs": [
    {
     "data": {
      "text/plain": [
       "0"
      ]
     },
     "execution_count": 39,
     "metadata": {},
     "output_type": "execute_result"
    }
   ],
   "source": [
    "data['Bedroom_No.'].isnull().sum()"
   ]
  },
  {
   "cell_type": "code",
   "execution_count": 40,
   "id": "055173cb",
   "metadata": {},
   "outputs": [],
   "source": [
    "data['Bedroom_No.']=data['Bedroom_No.'].apply(lambda x: int(x))"
   ]
  },
  {
   "cell_type": "markdown",
   "id": "a8ede637",
   "metadata": {},
   "source": [
    "#### Bathroom"
   ]
  },
  {
   "cell_type": "code",
   "execution_count": 41,
   "id": "a0fe5799",
   "metadata": {},
   "outputs": [
    {
     "data": {
      "text/plain": [
       "0"
      ]
     },
     "execution_count": 41,
     "metadata": {},
     "output_type": "execute_result"
    }
   ],
   "source": [
    "data['Bathroom'].isnull().sum()"
   ]
  },
  {
   "cell_type": "code",
   "execution_count": 42,
   "id": "566819c1",
   "metadata": {},
   "outputs": [
    {
     "data": {
      "text/plain": [
       "1        [1, Bath]\n",
       "2       [3, Baths]\n",
       "3       [2, Baths]\n",
       "4       [2, Baths]\n",
       "5       [2, Baths]\n",
       "           ...    \n",
       "8951     [1, Bath]\n",
       "8952    [2, Baths]\n",
       "8953    [3, Baths]\n",
       "8954    [2, Baths]\n",
       "8955    [2, Baths]\n",
       "Name: Bathroom, Length: 8785, dtype: object"
      ]
     },
     "execution_count": 42,
     "metadata": {},
     "output_type": "execute_result"
    }
   ],
   "source": [
    "data['Bathroom'].str.split(' ')"
   ]
  },
  {
   "cell_type": "code",
   "execution_count": 43,
   "id": "b330a702",
   "metadata": {},
   "outputs": [],
   "source": [
    "data['Bathroom']=data['Bathroom'].apply(bed_no)"
   ]
  },
  {
   "cell_type": "code",
   "execution_count": 44,
   "id": "68a52e53",
   "metadata": {},
   "outputs": [],
   "source": [
    "data['Bathroom']=data['Bathroom'].apply(lambda x: int(x))"
   ]
  },
  {
   "cell_type": "markdown",
   "id": "dac3c856",
   "metadata": {},
   "source": [
    "#### Area"
   ]
  },
  {
   "cell_type": "code",
   "execution_count": 45,
   "id": "5f86ea89",
   "metadata": {},
   "outputs": [
    {
     "data": {
      "text/plain": [
       "0"
      ]
     },
     "execution_count": 45,
     "metadata": {},
     "output_type": "execute_result"
    }
   ],
   "source": [
    "data['Area'].isnull().sum()"
   ]
  },
  {
   "cell_type": "code",
   "execution_count": 46,
   "id": "4706b455",
   "metadata": {},
   "outputs": [],
   "source": [
    "data['Area']=data['Area'].str.split(' ')"
   ]
  },
  {
   "cell_type": "code",
   "execution_count": 47,
   "id": "37e80b32",
   "metadata": {},
   "outputs": [],
   "source": [
    "data['Area']=data['Area'].apply(rent)"
   ]
  },
  {
   "cell_type": "code",
   "execution_count": 48,
   "id": "600b0af3",
   "metadata": {},
   "outputs": [
    {
     "data": {
      "text/plain": [
       "1       1,400\n",
       "2       1,781\n",
       "3       1,175\n",
       "4       1,420\n",
       "5       1,500\n",
       "        ...  \n",
       "8951    1,000\n",
       "8952    1,800\n",
       "8953    1,800\n",
       "8954    1,500\n",
       "8955    1,500\n",
       "Name: Area, Length: 8785, dtype: object"
      ]
     },
     "execution_count": 48,
     "metadata": {},
     "output_type": "execute_result"
    }
   ],
   "source": [
    "data['Area']"
   ]
  },
  {
   "cell_type": "code",
   "execution_count": 49,
   "id": "9a3ea08a",
   "metadata": {},
   "outputs": [],
   "source": [
    "data['Area']=data['Area'].str.replace(',','')"
   ]
  },
  {
   "cell_type": "code",
   "execution_count": 50,
   "id": "630d8f65",
   "metadata": {},
   "outputs": [],
   "source": [
    "data['Area_sq_ft']=data['Area']"
   ]
  },
  {
   "cell_type": "code",
   "execution_count": 51,
   "id": "49af417a",
   "metadata": {},
   "outputs": [],
   "source": [
    "data['Area_sq_ft']=data['Area_sq_ft'].apply(lambda x: int(x))"
   ]
  },
  {
   "cell_type": "markdown",
   "id": "07a85671",
   "metadata": {},
   "source": [
    "#### Posted_By"
   ]
  },
  {
   "cell_type": "code",
   "execution_count": 52,
   "id": "a9e3b65a",
   "metadata": {},
   "outputs": [],
   "source": [
    "def pb(p):\n",
    "    for i in range(len(p)):\n",
    "        if p[i]=='by':\n",
    "            lc=p[i+1:]\n",
    "            return lc"
   ]
  },
  {
   "cell_type": "code",
   "execution_count": 53,
   "id": "9bf39c69",
   "metadata": {},
   "outputs": [],
   "source": [
    "data['Posted_By']=data['Posted_By'].str.split(' ')"
   ]
  },
  {
   "cell_type": "code",
   "execution_count": 54,
   "id": "382e5eff",
   "metadata": {},
   "outputs": [],
   "source": [
    "data['Post_By']=data['Posted_By'].apply(pb)"
   ]
  },
  {
   "cell_type": "code",
   "execution_count": 55,
   "id": "76bfba70",
   "metadata": {},
   "outputs": [
    {
     "data": {
      "text/plain": [
       "1       [Dealer]\n",
       "2        [Owner]\n",
       "3        [Owner]\n",
       "4        [Owner]\n",
       "5        [Owner]\n",
       "          ...   \n",
       "8951    [Dealer]\n",
       "8952    [Dealer]\n",
       "8953    [Dealer]\n",
       "8954    [Dealer]\n",
       "8955    [Dealer]\n",
       "Name: Post_By, Length: 8785, dtype: object"
      ]
     },
     "execution_count": 55,
     "metadata": {},
     "output_type": "execute_result"
    }
   ],
   "source": [
    "data['Post_By']"
   ]
  },
  {
   "cell_type": "code",
   "execution_count": 56,
   "id": "6e227d7c",
   "metadata": {},
   "outputs": [],
   "source": [
    "def pb_1(p):\n",
    "    lc=''\n",
    "    l=len(p)\n",
    "    if l>1:\n",
    "        for i in range(len(p)):\n",
    "            lc=lc.join\n",
    "            return p[2]\n",
    "    else:\n",
    "        return p[0]"
   ]
  },
  {
   "cell_type": "code",
   "execution_count": 57,
   "id": "b9a8f713",
   "metadata": {},
   "outputs": [],
   "source": [
    "data['Post_By']=data['Post_By'].apply(pb_1)"
   ]
  },
  {
   "cell_type": "code",
   "execution_count": 58,
   "id": "70c1e41f",
   "metadata": {},
   "outputs": [
    {
     "data": {
      "text/plain": [
       "1       Dealer\n",
       "2        Owner\n",
       "3        Owner\n",
       "4        Owner\n",
       "5        Owner\n",
       "         ...  \n",
       "8951    Dealer\n",
       "8952    Dealer\n",
       "8953    Dealer\n",
       "8954    Dealer\n",
       "8955    Dealer\n",
       "Name: Post_By, Length: 8785, dtype: object"
      ]
     },
     "execution_count": 58,
     "metadata": {},
     "output_type": "execute_result"
    }
   ],
   "source": [
    "data['Post_By']"
   ]
  },
  {
   "cell_type": "code",
   "execution_count": 59,
   "id": "92a9369d",
   "metadata": {},
   "outputs": [
    {
     "data": {
      "text/html": [
       "<div>\n",
       "<style scoped>\n",
       "    .dataframe tbody tr th:only-of-type {\n",
       "        vertical-align: middle;\n",
       "    }\n",
       "\n",
       "    .dataframe tbody tr th {\n",
       "        vertical-align: top;\n",
       "    }\n",
       "\n",
       "    .dataframe thead th {\n",
       "        text-align: right;\n",
       "    }\n",
       "</style>\n",
       "<table border=\"1\" class=\"dataframe\">\n",
       "  <thead>\n",
       "    <tr style=\"text-align: right;\">\n",
       "      <th></th>\n",
       "      <th>Property_Name</th>\n",
       "      <th>About</th>\n",
       "      <th>Rent</th>\n",
       "      <th>Area</th>\n",
       "      <th>Bedrooms</th>\n",
       "      <th>Bathroom</th>\n",
       "      <th>Posted_By</th>\n",
       "      <th>Prop_Type</th>\n",
       "      <th>Location</th>\n",
       "      <th>Rent/month</th>\n",
       "      <th>Bedroom_No.</th>\n",
       "      <th>Area_sq_ft</th>\n",
       "      <th>Post_By</th>\n",
       "    </tr>\n",
       "  </thead>\n",
       "  <tbody>\n",
       "    <tr>\n",
       "      <th>10</th>\n",
       "      <td>NaN</td>\n",
       "      <td>[5, Bedroom, Independent, House, for, rent, in...</td>\n",
       "      <td>30000.0</td>\n",
       "      <td>1200</td>\n",
       "      <td>5 BHK3 Baths</td>\n",
       "      <td>3</td>\n",
       "      <td>[Posted, on, 07th, Jul,, 2021, by, Owner]</td>\n",
       "      <td>Independent House</td>\n",
       "      <td>Gnana Bharathi</td>\n",
       "      <td>30000</td>\n",
       "      <td>5</td>\n",
       "      <td>1200</td>\n",
       "      <td>Owner</td>\n",
       "    </tr>\n",
       "    <tr>\n",
       "      <th>14</th>\n",
       "      <td>NaN</td>\n",
       "      <td>[4, Bedroom, Independent, House, for, rent, in...</td>\n",
       "      <td>32700.0</td>\n",
       "      <td>3000</td>\n",
       "      <td>4 BHK4 Baths</td>\n",
       "      <td>4</td>\n",
       "      <td>[Posted, on, Yesterday, by, Owner]</td>\n",
       "      <td>Independent House</td>\n",
       "      <td>NRI Layout</td>\n",
       "      <td>32700</td>\n",
       "      <td>4</td>\n",
       "      <td>3000</td>\n",
       "      <td>Owner</td>\n",
       "    </tr>\n",
       "    <tr>\n",
       "      <th>19</th>\n",
       "      <td>NaN</td>\n",
       "      <td>[3, Bedroom, Independent, House, for, rent, in...</td>\n",
       "      <td>50000.0</td>\n",
       "      <td>2600</td>\n",
       "      <td>3 BHK2 Baths</td>\n",
       "      <td>2</td>\n",
       "      <td>[Posted, on, 07th, Jul,, 2021, by, Owner]</td>\n",
       "      <td>Independent House</td>\n",
       "      <td>Yelahanka New Town</td>\n",
       "      <td>50000</td>\n",
       "      <td>3</td>\n",
       "      <td>2600</td>\n",
       "      <td>Owner</td>\n",
       "    </tr>\n",
       "    <tr>\n",
       "      <th>25</th>\n",
       "      <td>NaN</td>\n",
       "      <td>[2, BHK, Independent, Builder, Floor, for, ren...</td>\n",
       "      <td>18500.0</td>\n",
       "      <td>1100</td>\n",
       "      <td>2 BHK2 Baths</td>\n",
       "      <td>2</td>\n",
       "      <td>[Posted, on, 27th, Jun,, 2021, by, Owner]</td>\n",
       "      <td>Independent House</td>\n",
       "      <td>BTM 1st Stage</td>\n",
       "      <td>18500</td>\n",
       "      <td>2</td>\n",
       "      <td>1100</td>\n",
       "      <td>Owner</td>\n",
       "    </tr>\n",
       "    <tr>\n",
       "      <th>36</th>\n",
       "      <td>NaN</td>\n",
       "      <td>[2, BHK, Independent, Builder, Floor, for, ren...</td>\n",
       "      <td>16000.0</td>\n",
       "      <td>1200</td>\n",
       "      <td>2 BHK2 Baths</td>\n",
       "      <td>2</td>\n",
       "      <td>[Posted, on, 06th, Jul,, 2021, by, Owner]</td>\n",
       "      <td>Independent House</td>\n",
       "      <td>Hulimavu</td>\n",
       "      <td>16000</td>\n",
       "      <td>2</td>\n",
       "      <td>1200</td>\n",
       "      <td>Owner</td>\n",
       "    </tr>\n",
       "    <tr>\n",
       "      <th>...</th>\n",
       "      <td>...</td>\n",
       "      <td>...</td>\n",
       "      <td>...</td>\n",
       "      <td>...</td>\n",
       "      <td>...</td>\n",
       "      <td>...</td>\n",
       "      <td>...</td>\n",
       "      <td>...</td>\n",
       "      <td>...</td>\n",
       "      <td>...</td>\n",
       "      <td>...</td>\n",
       "      <td>...</td>\n",
       "      <td>...</td>\n",
       "    </tr>\n",
       "    <tr>\n",
       "      <th>8942</th>\n",
       "      <td>NaN</td>\n",
       "      <td>[3, BHK, Independent, Builder, Floor, for, ren...</td>\n",
       "      <td>32000.0</td>\n",
       "      <td>1200</td>\n",
       "      <td>3 BHK2 Baths</td>\n",
       "      <td>2</td>\n",
       "      <td>[Posted, on, 01st, Jul,, 2021, by, Dealer]</td>\n",
       "      <td>Independent House</td>\n",
       "      <td>HSR Layout</td>\n",
       "      <td>32000</td>\n",
       "      <td>3</td>\n",
       "      <td>1200</td>\n",
       "      <td>Dealer</td>\n",
       "    </tr>\n",
       "    <tr>\n",
       "      <th>8945</th>\n",
       "      <td>NaN</td>\n",
       "      <td>[3, BHK, Independent, Builder, Floor, for, ren...</td>\n",
       "      <td>45000.0</td>\n",
       "      <td>1600</td>\n",
       "      <td>3 BHK2 Baths</td>\n",
       "      <td>2</td>\n",
       "      <td>[Posted, on, 30th, Jun,, 2021, by, Dealer]</td>\n",
       "      <td>Independent House</td>\n",
       "      <td>1st Block Jayanagar</td>\n",
       "      <td>45000</td>\n",
       "      <td>3</td>\n",
       "      <td>1600</td>\n",
       "      <td>Dealer</td>\n",
       "    </tr>\n",
       "    <tr>\n",
       "      <th>8951</th>\n",
       "      <td>NaN</td>\n",
       "      <td>[1, BHK, Independent, Builder, Floor, for, ren...</td>\n",
       "      <td>15000.0</td>\n",
       "      <td>1000</td>\n",
       "      <td>1 BHK1 Bath</td>\n",
       "      <td>1</td>\n",
       "      <td>[Posted, on, 27th, Jun,, 2021, by, Dealer]</td>\n",
       "      <td>Independent House</td>\n",
       "      <td>Kumara Park</td>\n",
       "      <td>15000</td>\n",
       "      <td>1</td>\n",
       "      <td>1000</td>\n",
       "      <td>Dealer</td>\n",
       "    </tr>\n",
       "    <tr>\n",
       "      <th>8952</th>\n",
       "      <td>NaN</td>\n",
       "      <td>[3, BHK, Independent, Builder, Floor, for, ren...</td>\n",
       "      <td>45000.0</td>\n",
       "      <td>1800</td>\n",
       "      <td>3 BHK2 Baths</td>\n",
       "      <td>2</td>\n",
       "      <td>[Posted, on, 27th, Jun,, 2021, by, Dealer]</td>\n",
       "      <td>Independent House</td>\n",
       "      <td>kumara park</td>\n",
       "      <td>45000</td>\n",
       "      <td>3</td>\n",
       "      <td>1800</td>\n",
       "      <td>Dealer</td>\n",
       "    </tr>\n",
       "    <tr>\n",
       "      <th>8955</th>\n",
       "      <td>NaN</td>\n",
       "      <td>[2, BHK, Independent, Builder, Floor, for, ren...</td>\n",
       "      <td>26000.0</td>\n",
       "      <td>1500</td>\n",
       "      <td>2 BHK2 Baths</td>\n",
       "      <td>2</td>\n",
       "      <td>[Posted, on, 27th, Jun,, 2021, by, Dealer]</td>\n",
       "      <td>Independent House</td>\n",
       "      <td>kumara park west</td>\n",
       "      <td>26000</td>\n",
       "      <td>2</td>\n",
       "      <td>1500</td>\n",
       "      <td>Dealer</td>\n",
       "    </tr>\n",
       "  </tbody>\n",
       "</table>\n",
       "<p>4035 rows × 13 columns</p>\n",
       "</div>"
      ],
      "text/plain": [
       "     Property_Name                                              About  \\\n",
       "10             NaN  [5, Bedroom, Independent, House, for, rent, in...   \n",
       "14             NaN  [4, Bedroom, Independent, House, for, rent, in...   \n",
       "19             NaN  [3, Bedroom, Independent, House, for, rent, in...   \n",
       "25             NaN  [2, BHK, Independent, Builder, Floor, for, ren...   \n",
       "36             NaN  [2, BHK, Independent, Builder, Floor, for, ren...   \n",
       "...            ...                                                ...   \n",
       "8942           NaN  [3, BHK, Independent, Builder, Floor, for, ren...   \n",
       "8945           NaN  [3, BHK, Independent, Builder, Floor, for, ren...   \n",
       "8951           NaN  [1, BHK, Independent, Builder, Floor, for, ren...   \n",
       "8952           NaN  [3, BHK, Independent, Builder, Floor, for, ren...   \n",
       "8955           NaN  [2, BHK, Independent, Builder, Floor, for, ren...   \n",
       "\n",
       "         Rent  Area      Bedrooms  Bathroom  \\\n",
       "10    30000.0  1200  5 BHK3 Baths         3   \n",
       "14    32700.0  3000  4 BHK4 Baths         4   \n",
       "19    50000.0  2600  3 BHK2 Baths         2   \n",
       "25    18500.0  1100  2 BHK2 Baths         2   \n",
       "36    16000.0  1200  2 BHK2 Baths         2   \n",
       "...       ...   ...           ...       ...   \n",
       "8942  32000.0  1200  3 BHK2 Baths         2   \n",
       "8945  45000.0  1600  3 BHK2 Baths         2   \n",
       "8951  15000.0  1000   1 BHK1 Bath         1   \n",
       "8952  45000.0  1800  3 BHK2 Baths         2   \n",
       "8955  26000.0  1500  2 BHK2 Baths         2   \n",
       "\n",
       "                                       Posted_By          Prop_Type  \\\n",
       "10     [Posted, on, 07th, Jul,, 2021, by, Owner]  Independent House   \n",
       "14            [Posted, on, Yesterday, by, Owner]  Independent House   \n",
       "19     [Posted, on, 07th, Jul,, 2021, by, Owner]  Independent House   \n",
       "25     [Posted, on, 27th, Jun,, 2021, by, Owner]  Independent House   \n",
       "36     [Posted, on, 06th, Jul,, 2021, by, Owner]  Independent House   \n",
       "...                                          ...                ...   \n",
       "8942  [Posted, on, 01st, Jul,, 2021, by, Dealer]  Independent House   \n",
       "8945  [Posted, on, 30th, Jun,, 2021, by, Dealer]  Independent House   \n",
       "8951  [Posted, on, 27th, Jun,, 2021, by, Dealer]  Independent House   \n",
       "8952  [Posted, on, 27th, Jun,, 2021, by, Dealer]  Independent House   \n",
       "8955  [Posted, on, 27th, Jun,, 2021, by, Dealer]  Independent House   \n",
       "\n",
       "                  Location  Rent/month  Bedroom_No.  Area_sq_ft Post_By  \n",
       "10          Gnana Bharathi       30000            5        1200   Owner  \n",
       "14              NRI Layout       32700            4        3000   Owner  \n",
       "19      Yelahanka New Town       50000            3        2600   Owner  \n",
       "25           BTM 1st Stage       18500            2        1100   Owner  \n",
       "36                Hulimavu       16000            2        1200   Owner  \n",
       "...                    ...         ...          ...         ...     ...  \n",
       "8942            HSR Layout       32000            3        1200  Dealer  \n",
       "8945   1st Block Jayanagar       45000            3        1600  Dealer  \n",
       "8951           Kumara Park       15000            1        1000  Dealer  \n",
       "8952           kumara park       45000            3        1800  Dealer  \n",
       "8955      kumara park west       26000            2        1500  Dealer  \n",
       "\n",
       "[4035 rows x 13 columns]"
      ]
     },
     "execution_count": 59,
     "metadata": {},
     "output_type": "execute_result"
    }
   ],
   "source": [
    "data[data['Property_Name'].isnull()]"
   ]
  },
  {
   "cell_type": "code",
   "execution_count": 60,
   "id": "8b95f128",
   "metadata": {},
   "outputs": [],
   "source": [
    "data['Property_Name']=data['Property_Name'].fillna(data['Prop_Type'])"
   ]
  },
  {
   "cell_type": "code",
   "execution_count": 61,
   "id": "d90680a5",
   "metadata": {},
   "outputs": [],
   "source": [
    "data.drop(labels=['About','Bedrooms','Posted_By','Area'],axis=1,inplace=True)"
   ]
  },
  {
   "cell_type": "code",
   "execution_count": 62,
   "id": "477e0729",
   "metadata": {},
   "outputs": [],
   "source": [
    "cols=['Property_Name','Location','Prop_Type','Area_sq_ft','Rent/month','Bedroom_No.','Bathroom','Post_By']"
   ]
  },
  {
   "cell_type": "code",
   "execution_count": 63,
   "id": "bd5c5abf",
   "metadata": {},
   "outputs": [],
   "source": [
    "data=data[cols]"
   ]
  },
  {
   "cell_type": "code",
   "execution_count": 64,
   "id": "77861dfd",
   "metadata": {
    "scrolled": true
   },
   "outputs": [
    {
     "data": {
      "text/html": [
       "<div>\n",
       "<style scoped>\n",
       "    .dataframe tbody tr th:only-of-type {\n",
       "        vertical-align: middle;\n",
       "    }\n",
       "\n",
       "    .dataframe tbody tr th {\n",
       "        vertical-align: top;\n",
       "    }\n",
       "\n",
       "    .dataframe thead th {\n",
       "        text-align: right;\n",
       "    }\n",
       "</style>\n",
       "<table border=\"1\" class=\"dataframe\">\n",
       "  <thead>\n",
       "    <tr style=\"text-align: right;\">\n",
       "      <th></th>\n",
       "      <th>Property_Name</th>\n",
       "      <th>Location</th>\n",
       "      <th>Prop_Type</th>\n",
       "      <th>Area_sq_ft</th>\n",
       "      <th>Rent/month</th>\n",
       "      <th>Bedroom_No.</th>\n",
       "      <th>Bathroom</th>\n",
       "      <th>Post_By</th>\n",
       "    </tr>\n",
       "  </thead>\n",
       "  <tbody>\n",
       "    <tr>\n",
       "      <th>1</th>\n",
       "      <td>Nestaway-5483</td>\n",
       "      <td>KR Puram</td>\n",
       "      <td>Residential Apartment</td>\n",
       "      <td>1400</td>\n",
       "      <td>30000</td>\n",
       "      <td>3</td>\n",
       "      <td>1</td>\n",
       "      <td>Dealer</td>\n",
       "    </tr>\n",
       "    <tr>\n",
       "      <th>2</th>\n",
       "      <td>sterling shalom</td>\n",
       "      <td>Kundalahalli</td>\n",
       "      <td>Residential Apartment</td>\n",
       "      <td>1781</td>\n",
       "      <td>30000</td>\n",
       "      <td>3</td>\n",
       "      <td>3</td>\n",
       "      <td>Owner</td>\n",
       "    </tr>\n",
       "    <tr>\n",
       "      <th>3</th>\n",
       "      <td>M3 Neptune</td>\n",
       "      <td>Vignana Nagar</td>\n",
       "      <td>Residential Apartment</td>\n",
       "      <td>1175</td>\n",
       "      <td>17000</td>\n",
       "      <td>2</td>\n",
       "      <td>2</td>\n",
       "      <td>Owner</td>\n",
       "    </tr>\n",
       "    <tr>\n",
       "      <th>4</th>\n",
       "      <td>Navya Nest</td>\n",
       "      <td>Ejipura</td>\n",
       "      <td>Residential Apartment</td>\n",
       "      <td>1420</td>\n",
       "      <td>28000</td>\n",
       "      <td>3</td>\n",
       "      <td>2</td>\n",
       "      <td>Owner</td>\n",
       "    </tr>\n",
       "    <tr>\n",
       "      <th>5</th>\n",
       "      <td>nova residency</td>\n",
       "      <td>Mahadevpura</td>\n",
       "      <td>Residential Apartment</td>\n",
       "      <td>1500</td>\n",
       "      <td>18000</td>\n",
       "      <td>2</td>\n",
       "      <td>2</td>\n",
       "      <td>Owner</td>\n",
       "    </tr>\n",
       "    <tr>\n",
       "      <th>6</th>\n",
       "      <td>charitha greenwoods</td>\n",
       "      <td>Thubarahalli</td>\n",
       "      <td>Residential Apartment</td>\n",
       "      <td>1260</td>\n",
       "      <td>21000</td>\n",
       "      <td>2</td>\n",
       "      <td>2</td>\n",
       "      <td>Owner</td>\n",
       "    </tr>\n",
       "    <tr>\n",
       "      <th>7</th>\n",
       "      <td>Magnolia Maks Blossom</td>\n",
       "      <td>Kammasandra</td>\n",
       "      <td>Residential Apartment</td>\n",
       "      <td>1250</td>\n",
       "      <td>10000</td>\n",
       "      <td>2</td>\n",
       "      <td>2</td>\n",
       "      <td>Owner</td>\n",
       "    </tr>\n",
       "    <tr>\n",
       "      <th>8</th>\n",
       "      <td>710 David Apartment</td>\n",
       "      <td>Sunshine Colony</td>\n",
       "      <td>Residential Apartment</td>\n",
       "      <td>550</td>\n",
       "      <td>16000</td>\n",
       "      <td>1</td>\n",
       "      <td>1</td>\n",
       "      <td>Dealer</td>\n",
       "    </tr>\n",
       "    <tr>\n",
       "      <th>9</th>\n",
       "      <td>Prestige Lakeside Habitat</td>\n",
       "      <td>Whitefield</td>\n",
       "      <td>Residential Apartment</td>\n",
       "      <td>2485</td>\n",
       "      <td>38000</td>\n",
       "      <td>3</td>\n",
       "      <td>4</td>\n",
       "      <td>Owner</td>\n",
       "    </tr>\n",
       "    <tr>\n",
       "      <th>10</th>\n",
       "      <td>Independent House</td>\n",
       "      <td>Gnana Bharathi</td>\n",
       "      <td>Independent House</td>\n",
       "      <td>1200</td>\n",
       "      <td>30000</td>\n",
       "      <td>5</td>\n",
       "      <td>3</td>\n",
       "      <td>Owner</td>\n",
       "    </tr>\n",
       "  </tbody>\n",
       "</table>\n",
       "</div>"
      ],
      "text/plain": [
       "                Property_Name          Location              Prop_Type  \\\n",
       "1               Nestaway-5483          KR Puram  Residential Apartment   \n",
       "2             sterling shalom      Kundalahalli  Residential Apartment   \n",
       "3                  M3 Neptune     Vignana Nagar  Residential Apartment   \n",
       "4                  Navya Nest           Ejipura  Residential Apartment   \n",
       "5              nova residency       Mahadevpura  Residential Apartment   \n",
       "6         charitha greenwoods      Thubarahalli  Residential Apartment   \n",
       "7       Magnolia Maks Blossom       Kammasandra  Residential Apartment   \n",
       "8         710 David Apartment   Sunshine Colony  Residential Apartment   \n",
       "9   Prestige Lakeside Habitat        Whitefield  Residential Apartment   \n",
       "10          Independent House    Gnana Bharathi      Independent House   \n",
       "\n",
       "    Area_sq_ft  Rent/month  Bedroom_No.  Bathroom Post_By  \n",
       "1         1400       30000            3         1  Dealer  \n",
       "2         1781       30000            3         3   Owner  \n",
       "3         1175       17000            2         2   Owner  \n",
       "4         1420       28000            3         2   Owner  \n",
       "5         1500       18000            2         2   Owner  \n",
       "6         1260       21000            2         2   Owner  \n",
       "7         1250       10000            2         2   Owner  \n",
       "8          550       16000            1         1  Dealer  \n",
       "9         2485       38000            3         4   Owner  \n",
       "10        1200       30000            5         3   Owner  "
      ]
     },
     "execution_count": 64,
     "metadata": {},
     "output_type": "execute_result"
    }
   ],
   "source": [
    "data.head(10)"
   ]
  },
  {
   "cell_type": "markdown",
   "id": "04ba7cd8",
   "metadata": {},
   "source": [
    "#### EDA"
   ]
  },
  {
   "cell_type": "markdown",
   "id": "fee00a75",
   "metadata": {},
   "source": [
    "1.Find all the 'Residential Apartments' in 'KR Puram' Bangalore"
   ]
  },
  {
   "cell_type": "code",
   "execution_count": 65,
   "id": "fa4974a2",
   "metadata": {},
   "outputs": [
    {
     "data": {
      "text/html": [
       "<div>\n",
       "<style scoped>\n",
       "    .dataframe tbody tr th:only-of-type {\n",
       "        vertical-align: middle;\n",
       "    }\n",
       "\n",
       "    .dataframe tbody tr th {\n",
       "        vertical-align: top;\n",
       "    }\n",
       "\n",
       "    .dataframe thead th {\n",
       "        text-align: right;\n",
       "    }\n",
       "</style>\n",
       "<table border=\"1\" class=\"dataframe\">\n",
       "  <thead>\n",
       "    <tr style=\"text-align: right;\">\n",
       "      <th></th>\n",
       "      <th>Property_Name</th>\n",
       "      <th>Location</th>\n",
       "      <th>Prop_Type</th>\n",
       "      <th>Area_sq_ft</th>\n",
       "      <th>Rent/month</th>\n",
       "      <th>Bedroom_No.</th>\n",
       "      <th>Bathroom</th>\n",
       "      <th>Post_By</th>\n",
       "    </tr>\n",
       "  </thead>\n",
       "  <tbody>\n",
       "    <tr>\n",
       "      <th>1</th>\n",
       "      <td>Nestaway-5483</td>\n",
       "      <td>KR Puram</td>\n",
       "      <td>Residential Apartment</td>\n",
       "      <td>1400</td>\n",
       "      <td>30000</td>\n",
       "      <td>3</td>\n",
       "      <td>1</td>\n",
       "      <td>Dealer</td>\n",
       "    </tr>\n",
       "    <tr>\n",
       "      <th>1549</th>\n",
       "      <td>Nestaway-16593</td>\n",
       "      <td>KR Puram</td>\n",
       "      <td>Residential Apartment</td>\n",
       "      <td>1300</td>\n",
       "      <td>35000</td>\n",
       "      <td>3</td>\n",
       "      <td>1</td>\n",
       "      <td>Dealer</td>\n",
       "    </tr>\n",
       "    <tr>\n",
       "      <th>1554</th>\n",
       "      <td>Nestaway-10242</td>\n",
       "      <td>KR Puram</td>\n",
       "      <td>Residential Apartment</td>\n",
       "      <td>1000</td>\n",
       "      <td>8000</td>\n",
       "      <td>1</td>\n",
       "      <td>1</td>\n",
       "      <td>Dealer</td>\n",
       "    </tr>\n",
       "    <tr>\n",
       "      <th>1796</th>\n",
       "      <td>Definer Hi Life</td>\n",
       "      <td>KR Puram</td>\n",
       "      <td>Residential Apartment</td>\n",
       "      <td>927</td>\n",
       "      <td>18000</td>\n",
       "      <td>2</td>\n",
       "      <td>2</td>\n",
       "      <td>Owner</td>\n",
       "    </tr>\n",
       "    <tr>\n",
       "      <th>1798</th>\n",
       "      <td>Definer Hi Life</td>\n",
       "      <td>KR Puram</td>\n",
       "      <td>Residential Apartment</td>\n",
       "      <td>926</td>\n",
       "      <td>18000</td>\n",
       "      <td>2</td>\n",
       "      <td>2</td>\n",
       "      <td>Owner</td>\n",
       "    </tr>\n",
       "    <tr>\n",
       "      <th>2460</th>\n",
       "      <td>Teja sunshine</td>\n",
       "      <td>KR Puram</td>\n",
       "      <td>Residential Apartment</td>\n",
       "      <td>1200</td>\n",
       "      <td>22000</td>\n",
       "      <td>3</td>\n",
       "      <td>3</td>\n",
       "      <td>Owner</td>\n",
       "    </tr>\n",
       "    <tr>\n",
       "      <th>3115</th>\n",
       "      <td>Alpha Garden</td>\n",
       "      <td>KR Puram</td>\n",
       "      <td>Residential Apartment</td>\n",
       "      <td>1000</td>\n",
       "      <td>13000</td>\n",
       "      <td>2</td>\n",
       "      <td>2</td>\n",
       "      <td>Owner</td>\n",
       "    </tr>\n",
       "    <tr>\n",
       "      <th>3323</th>\n",
       "      <td>Samhita Royal Splendor</td>\n",
       "      <td>KR Puram</td>\n",
       "      <td>Residential Apartment</td>\n",
       "      <td>1200</td>\n",
       "      <td>16500</td>\n",
       "      <td>2</td>\n",
       "      <td>2</td>\n",
       "      <td>Owner</td>\n",
       "    </tr>\n",
       "    <tr>\n",
       "      <th>4313</th>\n",
       "      <td>Shakthi High Lands</td>\n",
       "      <td>KR Puram</td>\n",
       "      <td>Residential Apartment</td>\n",
       "      <td>1120</td>\n",
       "      <td>17000</td>\n",
       "      <td>2</td>\n",
       "      <td>2</td>\n",
       "      <td>Owner</td>\n",
       "    </tr>\n",
       "    <tr>\n",
       "      <th>4549</th>\n",
       "      <td>Gina Shalom</td>\n",
       "      <td>KR Puram</td>\n",
       "      <td>Residential Apartment</td>\n",
       "      <td>1419</td>\n",
       "      <td>25000</td>\n",
       "      <td>3</td>\n",
       "      <td>2</td>\n",
       "      <td>Owner</td>\n",
       "    </tr>\n",
       "    <tr>\n",
       "      <th>4975</th>\n",
       "      <td>Teja Residency 1</td>\n",
       "      <td>KR Puram</td>\n",
       "      <td>Residential Apartment</td>\n",
       "      <td>1100</td>\n",
       "      <td>20000</td>\n",
       "      <td>3</td>\n",
       "      <td>2</td>\n",
       "      <td>Owner</td>\n",
       "    </tr>\n",
       "    <tr>\n",
       "      <th>5420</th>\n",
       "      <td>Sumadhuras Sawan MTB</td>\n",
       "      <td>KR Puram</td>\n",
       "      <td>Residential Apartment</td>\n",
       "      <td>1150</td>\n",
       "      <td>20000</td>\n",
       "      <td>2</td>\n",
       "      <td>2</td>\n",
       "      <td>Owner</td>\n",
       "    </tr>\n",
       "    <tr>\n",
       "      <th>6378</th>\n",
       "      <td>Lake Vihar 2</td>\n",
       "      <td>KR Puram</td>\n",
       "      <td>Residential Apartment</td>\n",
       "      <td>1006</td>\n",
       "      <td>16000</td>\n",
       "      <td>2</td>\n",
       "      <td>2</td>\n",
       "      <td>Owner</td>\n",
       "    </tr>\n",
       "    <tr>\n",
       "      <th>6379</th>\n",
       "      <td>Lake Vihar 2</td>\n",
       "      <td>KR Puram</td>\n",
       "      <td>Residential Apartment</td>\n",
       "      <td>1006</td>\n",
       "      <td>15000</td>\n",
       "      <td>2</td>\n",
       "      <td>2</td>\n",
       "      <td>Owner</td>\n",
       "    </tr>\n",
       "    <tr>\n",
       "      <th>6387</th>\n",
       "      <td>Ss Residency</td>\n",
       "      <td>KR Puram</td>\n",
       "      <td>Residential Apartment</td>\n",
       "      <td>1080</td>\n",
       "      <td>15000</td>\n",
       "      <td>2</td>\n",
       "      <td>2</td>\n",
       "      <td>Owner</td>\n",
       "    </tr>\n",
       "    <tr>\n",
       "      <th>6982</th>\n",
       "      <td>SBB daimonds</td>\n",
       "      <td>KR Puram</td>\n",
       "      <td>Residential Apartment</td>\n",
       "      <td>1380</td>\n",
       "      <td>20000</td>\n",
       "      <td>3</td>\n",
       "      <td>2</td>\n",
       "      <td>Owner</td>\n",
       "    </tr>\n",
       "    <tr>\n",
       "      <th>7561</th>\n",
       "      <td>Nestaway-10239</td>\n",
       "      <td>KR Puram</td>\n",
       "      <td>Residential Apartment</td>\n",
       "      <td>1200</td>\n",
       "      <td>12500</td>\n",
       "      <td>2</td>\n",
       "      <td>2</td>\n",
       "      <td>Dealer</td>\n",
       "    </tr>\n",
       "    <tr>\n",
       "      <th>8131</th>\n",
       "      <td>Optimum Rose Apartment</td>\n",
       "      <td>KR Puram</td>\n",
       "      <td>Residential Apartment</td>\n",
       "      <td>1113</td>\n",
       "      <td>19000</td>\n",
       "      <td>2</td>\n",
       "      <td>2</td>\n",
       "      <td>Owner</td>\n",
       "    </tr>\n",
       "  </tbody>\n",
       "</table>\n",
       "</div>"
      ],
      "text/plain": [
       "               Property_Name   Location              Prop_Type  Area_sq_ft  \\\n",
       "1              Nestaway-5483   KR Puram  Residential Apartment        1400   \n",
       "1549          Nestaway-16593   KR Puram  Residential Apartment        1300   \n",
       "1554          Nestaway-10242   KR Puram  Residential Apartment        1000   \n",
       "1796         Definer Hi Life   KR Puram  Residential Apartment         927   \n",
       "1798         Definer Hi Life   KR Puram  Residential Apartment         926   \n",
       "2460           Teja sunshine   KR Puram  Residential Apartment        1200   \n",
       "3115            Alpha Garden   KR Puram  Residential Apartment        1000   \n",
       "3323  Samhita Royal Splendor   KR Puram  Residential Apartment        1200   \n",
       "4313      Shakthi High Lands   KR Puram  Residential Apartment        1120   \n",
       "4549             Gina Shalom   KR Puram  Residential Apartment        1419   \n",
       "4975        Teja Residency 1   KR Puram  Residential Apartment        1100   \n",
       "5420    Sumadhuras Sawan MTB   KR Puram  Residential Apartment        1150   \n",
       "6378            Lake Vihar 2   KR Puram  Residential Apartment        1006   \n",
       "6379            Lake Vihar 2   KR Puram  Residential Apartment        1006   \n",
       "6387            Ss Residency   KR Puram  Residential Apartment        1080   \n",
       "6982            SBB daimonds   KR Puram  Residential Apartment        1380   \n",
       "7561          Nestaway-10239   KR Puram  Residential Apartment        1200   \n",
       "8131  Optimum Rose Apartment   KR Puram  Residential Apartment        1113   \n",
       "\n",
       "      Rent/month  Bedroom_No.  Bathroom Post_By  \n",
       "1          30000            3         1  Dealer  \n",
       "1549       35000            3         1  Dealer  \n",
       "1554        8000            1         1  Dealer  \n",
       "1796       18000            2         2   Owner  \n",
       "1798       18000            2         2   Owner  \n",
       "2460       22000            3         3   Owner  \n",
       "3115       13000            2         2   Owner  \n",
       "3323       16500            2         2   Owner  \n",
       "4313       17000            2         2   Owner  \n",
       "4549       25000            3         2   Owner  \n",
       "4975       20000            3         2   Owner  \n",
       "5420       20000            2         2   Owner  \n",
       "6378       16000            2         2   Owner  \n",
       "6379       15000            2         2   Owner  \n",
       "6387       15000            2         2   Owner  \n",
       "6982       20000            3         2   Owner  \n",
       "7561       12500            2         2  Dealer  \n",
       "8131       19000            2         2   Owner  "
      ]
     },
     "execution_count": 65,
     "metadata": {},
     "output_type": "execute_result"
    }
   ],
   "source": [
    "data[(data['Location'].str.strip()=='KR Puram') & (data['Prop_Type'].str.strip()=='Residential Apartment')]"
   ]
  },
  {
   "cell_type": "markdown",
   "id": "bd99aae1",
   "metadata": {},
   "source": [
    "2. Find all the Properties on Rent in 'Whitefield' with Rent less than 30,000"
   ]
  },
  {
   "cell_type": "code",
   "execution_count": 66,
   "id": "07618e30",
   "metadata": {},
   "outputs": [
    {
     "data": {
      "text/html": [
       "<div>\n",
       "<style scoped>\n",
       "    .dataframe tbody tr th:only-of-type {\n",
       "        vertical-align: middle;\n",
       "    }\n",
       "\n",
       "    .dataframe tbody tr th {\n",
       "        vertical-align: top;\n",
       "    }\n",
       "\n",
       "    .dataframe thead th {\n",
       "        text-align: right;\n",
       "    }\n",
       "</style>\n",
       "<table border=\"1\" class=\"dataframe\">\n",
       "  <thead>\n",
       "    <tr style=\"text-align: right;\">\n",
       "      <th></th>\n",
       "      <th>Property_Name</th>\n",
       "      <th>Location</th>\n",
       "      <th>Prop_Type</th>\n",
       "      <th>Area_sq_ft</th>\n",
       "      <th>Rent/month</th>\n",
       "      <th>Bedroom_No.</th>\n",
       "      <th>Bathroom</th>\n",
       "      <th>Post_By</th>\n",
       "    </tr>\n",
       "  </thead>\n",
       "  <tbody>\n",
       "    <tr>\n",
       "      <th>142</th>\n",
       "      <td>Prestige White Medows</td>\n",
       "      <td>Whitefield</td>\n",
       "      <td>Residential Apartment</td>\n",
       "      <td>1230</td>\n",
       "      <td>30000</td>\n",
       "      <td>2</td>\n",
       "      <td>2</td>\n",
       "      <td>Dealer</td>\n",
       "    </tr>\n",
       "    <tr>\n",
       "      <th>143</th>\n",
       "      <td>Prestige Shantinektan</td>\n",
       "      <td>Whitefield</td>\n",
       "      <td>Residential Apartment</td>\n",
       "      <td>1210</td>\n",
       "      <td>30000</td>\n",
       "      <td>2</td>\n",
       "      <td>2</td>\n",
       "      <td>Dealer</td>\n",
       "    </tr>\n",
       "    <tr>\n",
       "      <th>202</th>\n",
       "      <td>On Request</td>\n",
       "      <td>Whitefield</td>\n",
       "      <td>Residential Apartment</td>\n",
       "      <td>950</td>\n",
       "      <td>18000</td>\n",
       "      <td>1</td>\n",
       "      <td>1</td>\n",
       "      <td>Dealer</td>\n",
       "    </tr>\n",
       "    <tr>\n",
       "      <th>203</th>\n",
       "      <td>on request</td>\n",
       "      <td>Whitefield</td>\n",
       "      <td>Residential Apartment</td>\n",
       "      <td>750</td>\n",
       "      <td>18000</td>\n",
       "      <td>1</td>\n",
       "      <td>1</td>\n",
       "      <td>Dealer</td>\n",
       "    </tr>\n",
       "    <tr>\n",
       "      <th>204</th>\n",
       "      <td>on request</td>\n",
       "      <td>Whitefield</td>\n",
       "      <td>Residential Apartment</td>\n",
       "      <td>1300</td>\n",
       "      <td>22000</td>\n",
       "      <td>2</td>\n",
       "      <td>2</td>\n",
       "      <td>Dealer</td>\n",
       "    </tr>\n",
       "    <tr>\n",
       "      <th>...</th>\n",
       "      <td>...</td>\n",
       "      <td>...</td>\n",
       "      <td>...</td>\n",
       "      <td>...</td>\n",
       "      <td>...</td>\n",
       "      <td>...</td>\n",
       "      <td>...</td>\n",
       "      <td>...</td>\n",
       "    </tr>\n",
       "    <tr>\n",
       "      <th>8675</th>\n",
       "      <td>DSR Sunrise Towers</td>\n",
       "      <td>Whitefield</td>\n",
       "      <td>Residential Apartment</td>\n",
       "      <td>1400</td>\n",
       "      <td>25000</td>\n",
       "      <td>3</td>\n",
       "      <td>3</td>\n",
       "      <td>Dealer</td>\n",
       "    </tr>\n",
       "    <tr>\n",
       "      <th>8681</th>\n",
       "      <td>Prestige Lakeside Habitat</td>\n",
       "      <td>Whitefield</td>\n",
       "      <td>Residential Apartment</td>\n",
       "      <td>1216</td>\n",
       "      <td>26000</td>\n",
       "      <td>2</td>\n",
       "      <td>2</td>\n",
       "      <td>Dealer</td>\n",
       "    </tr>\n",
       "    <tr>\n",
       "      <th>8699</th>\n",
       "      <td>Srinivasa Sunridge</td>\n",
       "      <td>Whitefield</td>\n",
       "      <td>Residential Apartment</td>\n",
       "      <td>1130</td>\n",
       "      <td>26000</td>\n",
       "      <td>2</td>\n",
       "      <td>2</td>\n",
       "      <td>Dealer</td>\n",
       "    </tr>\n",
       "    <tr>\n",
       "      <th>8746</th>\n",
       "      <td>Republic Of Whitefield</td>\n",
       "      <td>Whitefield</td>\n",
       "      <td>Residential Apartment</td>\n",
       "      <td>1047</td>\n",
       "      <td>30000</td>\n",
       "      <td>2</td>\n",
       "      <td>2</td>\n",
       "      <td>Dealer</td>\n",
       "    </tr>\n",
       "    <tr>\n",
       "      <th>8809</th>\n",
       "      <td>Prestige Park View</td>\n",
       "      <td>Whitefield</td>\n",
       "      <td>Residential Apartment</td>\n",
       "      <td>1272</td>\n",
       "      <td>28000</td>\n",
       "      <td>2</td>\n",
       "      <td>2</td>\n",
       "      <td>Dealer</td>\n",
       "    </tr>\n",
       "  </tbody>\n",
       "</table>\n",
       "<p>190 rows × 8 columns</p>\n",
       "</div>"
      ],
      "text/plain": [
       "                  Property_Name     Location              Prop_Type  \\\n",
       "142       Prestige White Medows   Whitefield  Residential Apartment   \n",
       "143       Prestige Shantinektan   Whitefield  Residential Apartment   \n",
       "202                  On Request   Whitefield  Residential Apartment   \n",
       "203                  on request   Whitefield  Residential Apartment   \n",
       "204                  on request   Whitefield  Residential Apartment   \n",
       "...                         ...          ...                    ...   \n",
       "8675         DSR Sunrise Towers   Whitefield  Residential Apartment   \n",
       "8681  Prestige Lakeside Habitat   Whitefield  Residential Apartment   \n",
       "8699         Srinivasa Sunridge   Whitefield  Residential Apartment   \n",
       "8746     Republic Of Whitefield   Whitefield  Residential Apartment   \n",
       "8809         Prestige Park View   Whitefield  Residential Apartment   \n",
       "\n",
       "      Area_sq_ft  Rent/month  Bedroom_No.  Bathroom Post_By  \n",
       "142         1230       30000            2         2  Dealer  \n",
       "143         1210       30000            2         2  Dealer  \n",
       "202          950       18000            1         1  Dealer  \n",
       "203          750       18000            1         1  Dealer  \n",
       "204         1300       22000            2         2  Dealer  \n",
       "...          ...         ...          ...       ...     ...  \n",
       "8675        1400       25000            3         3  Dealer  \n",
       "8681        1216       26000            2         2  Dealer  \n",
       "8699        1130       26000            2         2  Dealer  \n",
       "8746        1047       30000            2         2  Dealer  \n",
       "8809        1272       28000            2         2  Dealer  \n",
       "\n",
       "[190 rows x 8 columns]"
      ]
     },
     "execution_count": 66,
     "metadata": {},
     "output_type": "execute_result"
    }
   ],
   "source": [
    "data[(data['Location'].str.strip()=='Whitefield') & (data['Rent/month']<=30000)]"
   ]
  },
  {
   "cell_type": "markdown",
   "id": "88b5740f",
   "metadata": {},
   "source": [
    "3. Find all the properties on rent which have an Area/sq.ft greater than 1500 and Rent less than 30,000"
   ]
  },
  {
   "cell_type": "code",
   "execution_count": 67,
   "id": "e738ead4",
   "metadata": {},
   "outputs": [
    {
     "data": {
      "text/html": [
       "<div>\n",
       "<style scoped>\n",
       "    .dataframe tbody tr th:only-of-type {\n",
       "        vertical-align: middle;\n",
       "    }\n",
       "\n",
       "    .dataframe tbody tr th {\n",
       "        vertical-align: top;\n",
       "    }\n",
       "\n",
       "    .dataframe thead th {\n",
       "        text-align: right;\n",
       "    }\n",
       "</style>\n",
       "<table border=\"1\" class=\"dataframe\">\n",
       "  <thead>\n",
       "    <tr style=\"text-align: right;\">\n",
       "      <th></th>\n",
       "      <th>Property_Name</th>\n",
       "      <th>Location</th>\n",
       "      <th>Prop_Type</th>\n",
       "      <th>Area_sq_ft</th>\n",
       "      <th>Rent/month</th>\n",
       "      <th>Bedroom_No.</th>\n",
       "      <th>Bathroom</th>\n",
       "      <th>Post_By</th>\n",
       "    </tr>\n",
       "  </thead>\n",
       "  <tbody>\n",
       "    <tr>\n",
       "      <th>2</th>\n",
       "      <td>sterling shalom</td>\n",
       "      <td>Kundalahalli</td>\n",
       "      <td>Residential Apartment</td>\n",
       "      <td>1781</td>\n",
       "      <td>30000</td>\n",
       "      <td>3</td>\n",
       "      <td>3</td>\n",
       "      <td>Owner</td>\n",
       "    </tr>\n",
       "    <tr>\n",
       "      <th>5</th>\n",
       "      <td>nova residency</td>\n",
       "      <td>Mahadevpura</td>\n",
       "      <td>Residential Apartment</td>\n",
       "      <td>1500</td>\n",
       "      <td>18000</td>\n",
       "      <td>2</td>\n",
       "      <td>2</td>\n",
       "      <td>Owner</td>\n",
       "    </tr>\n",
       "    <tr>\n",
       "      <th>18</th>\n",
       "      <td>DSR Ultima</td>\n",
       "      <td>Harlur Road</td>\n",
       "      <td>Residential Apartment</td>\n",
       "      <td>1745</td>\n",
       "      <td>28500</td>\n",
       "      <td>3</td>\n",
       "      <td>3</td>\n",
       "      <td>Owner</td>\n",
       "    </tr>\n",
       "    <tr>\n",
       "      <th>49</th>\n",
       "      <td>DS Max Serene</td>\n",
       "      <td>Hulimavu</td>\n",
       "      <td>Residential Apartment</td>\n",
       "      <td>2160</td>\n",
       "      <td>22000</td>\n",
       "      <td>3</td>\n",
       "      <td>3</td>\n",
       "      <td>Owner</td>\n",
       "    </tr>\n",
       "    <tr>\n",
       "      <th>70</th>\n",
       "      <td>Veohm Vigneshwara Cedar Woods</td>\n",
       "      <td>Narayanapura</td>\n",
       "      <td>Residential Apartment</td>\n",
       "      <td>1633</td>\n",
       "      <td>25000</td>\n",
       "      <td>3</td>\n",
       "      <td>3</td>\n",
       "      <td>Owner</td>\n",
       "    </tr>\n",
       "    <tr>\n",
       "      <th>...</th>\n",
       "      <td>...</td>\n",
       "      <td>...</td>\n",
       "      <td>...</td>\n",
       "      <td>...</td>\n",
       "      <td>...</td>\n",
       "      <td>...</td>\n",
       "      <td>...</td>\n",
       "      <td>...</td>\n",
       "    </tr>\n",
       "    <tr>\n",
       "      <th>8925</th>\n",
       "      <td>Independent House</td>\n",
       "      <td>Sector 2 HSR Layout</td>\n",
       "      <td>Independent House</td>\n",
       "      <td>1800</td>\n",
       "      <td>18000</td>\n",
       "      <td>2</td>\n",
       "      <td>3</td>\n",
       "      <td>Dealer</td>\n",
       "    </tr>\n",
       "    <tr>\n",
       "      <th>8935</th>\n",
       "      <td>Advaitha Aksha</td>\n",
       "      <td>Koramangala</td>\n",
       "      <td>Independent House</td>\n",
       "      <td>1500</td>\n",
       "      <td>25000</td>\n",
       "      <td>2</td>\n",
       "      <td>2</td>\n",
       "      <td>Dealer</td>\n",
       "    </tr>\n",
       "    <tr>\n",
       "      <th>8947</th>\n",
       "      <td>Sobha City Santorini</td>\n",
       "      <td>Hegde Nagar</td>\n",
       "      <td>Residential Apartment</td>\n",
       "      <td>1740</td>\n",
       "      <td>29000</td>\n",
       "      <td>3</td>\n",
       "      <td>3</td>\n",
       "      <td>Dealer</td>\n",
       "    </tr>\n",
       "    <tr>\n",
       "      <th>8954</th>\n",
       "      <td>Shilpa Tallam Residency</td>\n",
       "      <td>Kumara Park</td>\n",
       "      <td>Residential Apartment</td>\n",
       "      <td>1500</td>\n",
       "      <td>25000</td>\n",
       "      <td>2</td>\n",
       "      <td>2</td>\n",
       "      <td>Dealer</td>\n",
       "    </tr>\n",
       "    <tr>\n",
       "      <th>8955</th>\n",
       "      <td>Independent House</td>\n",
       "      <td>kumara park west</td>\n",
       "      <td>Independent House</td>\n",
       "      <td>1500</td>\n",
       "      <td>26000</td>\n",
       "      <td>2</td>\n",
       "      <td>2</td>\n",
       "      <td>Dealer</td>\n",
       "    </tr>\n",
       "  </tbody>\n",
       "</table>\n",
       "<p>768 rows × 8 columns</p>\n",
       "</div>"
      ],
      "text/plain": [
       "                      Property_Name              Location  \\\n",
       "2                   sterling shalom          Kundalahalli   \n",
       "5                    nova residency           Mahadevpura   \n",
       "18                       DSR Ultima           Harlur Road   \n",
       "49                    DS Max Serene              Hulimavu   \n",
       "70    Veohm Vigneshwara Cedar Woods          Narayanapura   \n",
       "...                             ...                   ...   \n",
       "8925              Independent House   Sector 2 HSR Layout   \n",
       "8935                 Advaitha Aksha           Koramangala   \n",
       "8947           Sobha City Santorini           Hegde Nagar   \n",
       "8954        Shilpa Tallam Residency           Kumara Park   \n",
       "8955              Independent House      kumara park west   \n",
       "\n",
       "                  Prop_Type  Area_sq_ft  Rent/month  Bedroom_No.  Bathroom  \\\n",
       "2     Residential Apartment        1781       30000            3         3   \n",
       "5     Residential Apartment        1500       18000            2         2   \n",
       "18    Residential Apartment        1745       28500            3         3   \n",
       "49    Residential Apartment        2160       22000            3         3   \n",
       "70    Residential Apartment        1633       25000            3         3   \n",
       "...                     ...         ...         ...          ...       ...   \n",
       "8925      Independent House        1800       18000            2         3   \n",
       "8935      Independent House        1500       25000            2         2   \n",
       "8947  Residential Apartment        1740       29000            3         3   \n",
       "8954  Residential Apartment        1500       25000            2         2   \n",
       "8955      Independent House        1500       26000            2         2   \n",
       "\n",
       "     Post_By  \n",
       "2      Owner  \n",
       "5      Owner  \n",
       "18     Owner  \n",
       "49     Owner  \n",
       "70     Owner  \n",
       "...      ...  \n",
       "8925  Dealer  \n",
       "8935  Dealer  \n",
       "8947  Dealer  \n",
       "8954  Dealer  \n",
       "8955  Dealer  \n",
       "\n",
       "[768 rows x 8 columns]"
      ]
     },
     "execution_count": 67,
     "metadata": {},
     "output_type": "execute_result"
    }
   ],
   "source": [
    "data[(data['Area_sq_ft']>=1500) & (data['Rent/month']<=30000)]"
   ]
  },
  {
   "cell_type": "markdown",
   "id": "fb8b78b5",
   "metadata": {},
   "source": [
    "#### DATA VISUALIZATION"
   ]
  },
  {
   "cell_type": "code",
   "execution_count": 68,
   "id": "7dec8a52",
   "metadata": {},
   "outputs": [
    {
     "data": {
      "text/plain": [
       "<AxesSubplot:>"
      ]
     },
     "execution_count": 68,
     "metadata": {},
     "output_type": "execute_result"
    },
    {
     "data": {
      "image/png": "[encoded data removed]",
      "text/plain": [
       "<Figure size 432x288 with 2 Axes>"
      ]
     },
     "metadata": {
      "needs_background": "light"
     },
     "output_type": "display_data"
    }
   ],
   "source": [
    "sns.heatmap(data.corr(),annot=True)"
   ]
  },
  {
   "cell_type": "markdown",
   "id": "b417ada2",
   "metadata": {},
   "source": [
    "1. See which Property Type is mostly available for Rent"
   ]
  },
  {
   "cell_type": "code",
   "execution_count": 69,
   "id": "f7164200",
   "metadata": {},
   "outputs": [
    {
     "data": {
      "text/plain": [
       "Text(0.5, 1.0, 'PROPERTY TYPE v/s NUMBER OF PROPERTY ON RENT')"
      ]
     },
     "execution_count": 69,
     "metadata": {},
     "output_type": "execute_result"
    },
    {
     "data": {
      "image/png": "[encoded data removed]",
      "text/plain": [
       "<Figure size 720x432 with 1 Axes>"
      ]
     },
     "metadata": {
      "needs_background": "light"
     },
     "output_type": "display_data"
    }
   ],
   "source": [
    "plt.figure(figsize=(10,6))\n",
    "sns.countplot(data['Prop_Type'])\n",
    "plt.xticks(rotation=90)\n",
    "plt.xlabel('PROPERTY TYPE')\n",
    "plt.title('PROPERTY TYPE v/s NUMBER OF PROPERTY ON RENT')"
   ]
  },
  {
   "cell_type": "code",
   "execution_count": 70,
   "id": "0399f480",
   "metadata": {},
   "outputs": [
    {
     "data": {
      "text/plain": [
       "1583"
      ]
     },
     "execution_count": 70,
     "metadata": {},
     "output_type": "execute_result"
    }
   ],
   "source": [
    "data['Location'].nunique()"
   ]
  },
  {
   "cell_type": "markdown",
   "id": "4c58d0ef",
   "metadata": {},
   "source": [
    "2. Which are the top 20 locations, which have high rental price per month"
   ]
  },
  {
   "cell_type": "code",
   "execution_count": 71,
   "id": "d019dfe3",
   "metadata": {},
   "outputs": [],
   "source": [
    "grp1=data.groupby(['Location'])\n",
    "r1=grp1['Rent/month'].agg(np.mean)"
   ]
  },
  {
   "cell_type": "code",
   "execution_count": 72,
   "id": "6dc40d47",
   "metadata": {},
   "outputs": [],
   "source": [
    "x1=r1.sort_values(ascending=False).head(30)"
   ]
  },
  {
   "cell_type": "code",
   "execution_count": 73,
   "id": "b71c603a",
   "metadata": {},
   "outputs": [
    {
     "data": {
      "text/plain": [
       "Text(0.5, 1.0, 'LOCATION v/s AVERAGE RENT')"
      ]
     },
     "execution_count": 73,
     "metadata": {},
     "output_type": "execute_result"
    },
    {
     "data": {
      "image/png": "[encoded data removed]",
      "text/plain": [
       "<Figure size 1440x360 with 1 Axes>"
      ]
     },
     "metadata": {
      "needs_background": "light"
     },
     "output_type": "display_data"
    }
   ],
   "source": [
    "plt.figure(figsize=(20,5))\n",
    "x1.plot.bar(color='b')\n",
    "plt.xlabel('LOCATION')\n",
    "plt.title('LOCATION v/s AVERAGE RENT')"
   ]
  },
  {
   "cell_type": "markdown",
   "id": "b3768597",
   "metadata": {},
   "source": [
    "3. Check how does Area_sq_ft affect the rental price"
   ]
  },
  {
   "cell_type": "code",
   "execution_count": 74,
   "id": "2740911e",
   "metadata": {},
   "outputs": [],
   "source": [
    "grp2=data.groupby(['Area_sq_ft'])\n",
    "b2=grp2['Rent/month'].agg(np.mean)\n",
    "x2=b2.sort_values(ascending=False).head(10)"
   ]
  },
  {
   "cell_type": "code",
   "execution_count": 75,
   "id": "089b3d04",
   "metadata": {},
   "outputs": [
    {
     "data": {
      "text/plain": [
       "Text(0.5, 1.0, 'AREA v/s AVERAGE RENT')"
      ]
     },
     "execution_count": 75,
     "metadata": {},
     "output_type": "execute_result"
    },
    {
     "data": {
      "image/png": "[encoded data removed]",
      "text/plain": [
       "<Figure size 1440x360 with 1 Axes>"
      ]
     },
     "metadata": {
      "needs_background": "light"
     },
     "output_type": "display_data"
    }
   ],
   "source": [
    "plt.figure(figsize=(20,5))\n",
    "x2.plot.bar(color='orange')\n",
    "plt.xlabel('AREA(SQ.FT.)')\n",
    "plt.ylabel('AVERAGE RENT')\n",
    "plt.title('AREA v/s AVERAGE RENT')"
   ]
  },
  {
   "cell_type": "code",
   "execution_count": 76,
   "id": "17368b0a",
   "metadata": {},
   "outputs": [
    {
     "data": {
      "text/html": [
       "<div>\n",
       "<style scoped>\n",
       "    .dataframe tbody tr th:only-of-type {\n",
       "        vertical-align: middle;\n",
       "    }\n",
       "\n",
       "    .dataframe tbody tr th {\n",
       "        vertical-align: top;\n",
       "    }\n",
       "\n",
       "    .dataframe thead th {\n",
       "        text-align: right;\n",
       "    }\n",
       "</style>\n",
       "<table border=\"1\" class=\"dataframe\">\n",
       "  <thead>\n",
       "    <tr style=\"text-align: right;\">\n",
       "      <th></th>\n",
       "      <th>Property_Name</th>\n",
       "      <th>Location</th>\n",
       "      <th>Prop_Type</th>\n",
       "      <th>Area_sq_ft</th>\n",
       "      <th>Rent/month</th>\n",
       "      <th>Bedroom_No.</th>\n",
       "      <th>Bathroom</th>\n",
       "      <th>Post_By</th>\n",
       "    </tr>\n",
       "  </thead>\n",
       "  <tbody>\n",
       "    <tr>\n",
       "      <th>1835</th>\n",
       "      <td>Vishars residency</td>\n",
       "      <td>saraswathi Nagar</td>\n",
       "      <td>Residential Apartment</td>\n",
       "      <td>850</td>\n",
       "      <td>2000000</td>\n",
       "      <td>2</td>\n",
       "      <td>2</td>\n",
       "      <td>Owner</td>\n",
       "    </tr>\n",
       "  </tbody>\n",
       "</table>\n",
       "</div>"
      ],
      "text/plain": [
       "          Property_Name           Location              Prop_Type  Area_sq_ft  \\\n",
       "1835  Vishars residency   saraswathi Nagar  Residential Apartment         850   \n",
       "\n",
       "      Rent/month  Bedroom_No.  Bathroom Post_By  \n",
       "1835     2000000            2         2   Owner  "
      ]
     },
     "execution_count": 76,
     "metadata": {},
     "output_type": "execute_result"
    }
   ],
   "source": [
    "data[data['Location']==' saraswathi Nagar']"
   ]
  },
  {
   "cell_type": "markdown",
   "id": "8129263b",
   "metadata": {},
   "source": [
    "Since in the above plot we see that an area as low as 724 sq.ft. has a rental price of approximately 8 lac/month. So, we can say that it is not only the area sq.ft which affects the price but also the location of the property. As for example we see that Property in Saraswathi Nagar has a rent of 20 lac/month and an area of 850 sq. ft"
   ]
  },
  {
   "cell_type": "markdown",
   "id": "2a96d0fa",
   "metadata": {},
   "source": [
    "4. Top 10 Locations where we can find houses on rent"
   ]
  },
  {
   "cell_type": "code",
   "execution_count": 77,
   "id": "6778b08a",
   "metadata": {},
   "outputs": [],
   "source": [
    "X=data['Location'].value_counts().head(10)"
   ]
  },
  {
   "cell_type": "code",
   "execution_count": 78,
   "id": "bbd5e493",
   "metadata": {},
   "outputs": [
    {
     "data": {
      "text/plain": [
       "Text(0.5, 1.0, 'LOCATION v/s NUMBER OF PROPERTY ON RENT')"
      ]
     },
     "execution_count": 78,
     "metadata": {},
     "output_type": "execute_result"
    },
    {
     "data": {
      "image/png": "[encoded data removed]",
      "text/plain": [
       "<Figure size 432x288 with 1 Axes>"
      ]
     },
     "metadata": {
      "needs_background": "light"
     },
     "output_type": "display_data"
    }
   ],
   "source": [
    "X.plot.bar()\n",
    "plt.xlabel('LOCATION')\n",
    "plt.title('LOCATION v/s NUMBER OF PROPERTY ON RENT')"
   ]
  },
  {
   "cell_type": "code",
   "execution_count": 79,
   "id": "3da213ef",
   "metadata": {},
   "outputs": [
    {
     "data": {
      "text/html": [
       "<div>\n",
       "<style scoped>\n",
       "    .dataframe tbody tr th:only-of-type {\n",
       "        vertical-align: middle;\n",
       "    }\n",
       "\n",
       "    .dataframe tbody tr th {\n",
       "        vertical-align: top;\n",
       "    }\n",
       "\n",
       "    .dataframe thead th {\n",
       "        text-align: right;\n",
       "    }\n",
       "</style>\n",
       "<table border=\"1\" class=\"dataframe\">\n",
       "  <thead>\n",
       "    <tr style=\"text-align: right;\">\n",
       "      <th></th>\n",
       "      <th>Property_Name</th>\n",
       "      <th>Location</th>\n",
       "      <th>Prop_Type</th>\n",
       "      <th>Area_sq_ft</th>\n",
       "      <th>Rent/month</th>\n",
       "      <th>Bedroom_No.</th>\n",
       "      <th>Bathroom</th>\n",
       "      <th>Post_By</th>\n",
       "    </tr>\n",
       "  </thead>\n",
       "  <tbody>\n",
       "    <tr>\n",
       "      <th>46</th>\n",
       "      <td>Independent House</td>\n",
       "      <td>Indira Nagar</td>\n",
       "      <td>Independent House</td>\n",
       "      <td>750</td>\n",
       "      <td>15000</td>\n",
       "      <td>1</td>\n",
       "      <td>1</td>\n",
       "      <td>Dealer</td>\n",
       "    </tr>\n",
       "    <tr>\n",
       "      <th>97</th>\n",
       "      <td>Residential Building</td>\n",
       "      <td>Indira Nagar</td>\n",
       "      <td>Residential Apartment</td>\n",
       "      <td>1900</td>\n",
       "      <td>75000</td>\n",
       "      <td>3</td>\n",
       "      <td>4</td>\n",
       "      <td>Dealer</td>\n",
       "    </tr>\n",
       "    <tr>\n",
       "      <th>172</th>\n",
       "      <td>on request</td>\n",
       "      <td>Indira Nagar</td>\n",
       "      <td>Independent House</td>\n",
       "      <td>900</td>\n",
       "      <td>25000</td>\n",
       "      <td>1</td>\n",
       "      <td>1</td>\n",
       "      <td>Dealer</td>\n",
       "    </tr>\n",
       "    <tr>\n",
       "      <th>281</th>\n",
       "      <td>residential project</td>\n",
       "      <td>Indira Nagar</td>\n",
       "      <td>Residential Apartment</td>\n",
       "      <td>2000</td>\n",
       "      <td>65000</td>\n",
       "      <td>3</td>\n",
       "      <td>3</td>\n",
       "      <td>Dealer</td>\n",
       "    </tr>\n",
       "    <tr>\n",
       "      <th>318</th>\n",
       "      <td>Independent House</td>\n",
       "      <td>Indira Nagar</td>\n",
       "      <td>Independent House</td>\n",
       "      <td>500</td>\n",
       "      <td>15000</td>\n",
       "      <td>1</td>\n",
       "      <td>1</td>\n",
       "      <td>Dealer</td>\n",
       "    </tr>\n",
       "    <tr>\n",
       "      <th>...</th>\n",
       "      <td>...</td>\n",
       "      <td>...</td>\n",
       "      <td>...</td>\n",
       "      <td>...</td>\n",
       "      <td>...</td>\n",
       "      <td>...</td>\n",
       "      <td>...</td>\n",
       "      <td>...</td>\n",
       "    </tr>\n",
       "    <tr>\n",
       "      <th>8892</th>\n",
       "      <td>Builder Floor</td>\n",
       "      <td>Indira Nagar</td>\n",
       "      <td>Independent House</td>\n",
       "      <td>1100</td>\n",
       "      <td>25000</td>\n",
       "      <td>2</td>\n",
       "      <td>2</td>\n",
       "      <td>Dealer</td>\n",
       "    </tr>\n",
       "    <tr>\n",
       "      <th>8893</th>\n",
       "      <td>Flat</td>\n",
       "      <td>Indira Nagar</td>\n",
       "      <td>Residential Apartment</td>\n",
       "      <td>1200</td>\n",
       "      <td>28000</td>\n",
       "      <td>2</td>\n",
       "      <td>2</td>\n",
       "      <td>Dealer</td>\n",
       "    </tr>\n",
       "    <tr>\n",
       "      <th>8897</th>\n",
       "      <td>Flat</td>\n",
       "      <td>Indira Nagar</td>\n",
       "      <td>Residential Apartment</td>\n",
       "      <td>1200</td>\n",
       "      <td>30000</td>\n",
       "      <td>2</td>\n",
       "      <td>2</td>\n",
       "      <td>Dealer</td>\n",
       "    </tr>\n",
       "    <tr>\n",
       "      <th>8908</th>\n",
       "      <td>Naveen</td>\n",
       "      <td>Indira Nagar</td>\n",
       "      <td>Residential Apartment</td>\n",
       "      <td>650</td>\n",
       "      <td>16000</td>\n",
       "      <td>1</td>\n",
       "      <td>1</td>\n",
       "      <td>Dealer</td>\n",
       "    </tr>\n",
       "    <tr>\n",
       "      <th>8910</th>\n",
       "      <td>Indiranagar</td>\n",
       "      <td>Indira Nagar</td>\n",
       "      <td>Residential Apartment</td>\n",
       "      <td>1200</td>\n",
       "      <td>23000</td>\n",
       "      <td>2</td>\n",
       "      <td>2</td>\n",
       "      <td>Dealer</td>\n",
       "    </tr>\n",
       "  </tbody>\n",
       "</table>\n",
       "<p>79 rows × 8 columns</p>\n",
       "</div>"
      ],
      "text/plain": [
       "             Property_Name       Location              Prop_Type  Area_sq_ft  \\\n",
       "46       Independent House   Indira Nagar      Independent House         750   \n",
       "97    Residential Building   Indira Nagar  Residential Apartment        1900   \n",
       "172             on request   Indira Nagar      Independent House         900   \n",
       "281    residential project   Indira Nagar  Residential Apartment        2000   \n",
       "318      Independent House   Indira Nagar      Independent House         500   \n",
       "...                    ...            ...                    ...         ...   \n",
       "8892         Builder Floor   Indira Nagar      Independent House        1100   \n",
       "8893                  Flat   Indira Nagar  Residential Apartment        1200   \n",
       "8897                  Flat   Indira Nagar  Residential Apartment        1200   \n",
       "8908                Naveen   Indira Nagar  Residential Apartment         650   \n",
       "8910           Indiranagar   Indira Nagar  Residential Apartment        1200   \n",
       "\n",
       "      Rent/month  Bedroom_No.  Bathroom Post_By  \n",
       "46         15000            1         1  Dealer  \n",
       "97         75000            3         4  Dealer  \n",
       "172        25000            1         1  Dealer  \n",
       "281        65000            3         3  Dealer  \n",
       "318        15000            1         1  Dealer  \n",
       "...          ...          ...       ...     ...  \n",
       "8892       25000            2         2  Dealer  \n",
       "8893       28000            2         2  Dealer  \n",
       "8897       30000            2         2  Dealer  \n",
       "8908       16000            1         1  Dealer  \n",
       "8910       23000            2         2  Dealer  \n",
       "\n",
       "[79 rows x 8 columns]"
      ]
     },
     "execution_count": 79,
     "metadata": {},
     "output_type": "execute_result"
    }
   ],
   "source": [
    "data[(data['Location']==' Indira Nagar')]"
   ]
  },
  {
   "cell_type": "markdown",
   "id": "0461b104",
   "metadata": {},
   "source": [
    "5. Rent/month depending upon the Property Type"
   ]
  },
  {
   "cell_type": "code",
   "execution_count": 80,
   "id": "f2a57b10",
   "metadata": {},
   "outputs": [],
   "source": [
    "grp3=data.groupby(['Prop_Type'])\n",
    "r3=grp3['Rent/month'].agg(np.mean)\n",
    "x3=r3.sort_values(ascending=False).head(30)"
   ]
  },
  {
   "cell_type": "code",
   "execution_count": 81,
   "id": "cded3600",
   "metadata": {},
   "outputs": [],
   "source": [
    "x3=r3.sort_values(ascending=False).head(30)"
   ]
  },
  {
   "cell_type": "code",
   "execution_count": 82,
   "id": "4d034657",
   "metadata": {},
   "outputs": [
    {
     "data": {
      "text/plain": [
       "Text(0.5, 1.0, 'PROPERTY TYPE v/s AVERAGE RENT')"
      ]
     },
     "execution_count": 82,
     "metadata": {},
     "output_type": "execute_result"
    },
    {
     "data": {
      "image/png": "[encoded data removed]",
      "text/plain": [
       "<Figure size 720x360 with 1 Axes>"
      ]
     },
     "metadata": {
      "needs_background": "light"
     },
     "output_type": "display_data"
    }
   ],
   "source": [
    "plt.figure(figsize=(10,5))\n",
    "x3.plot.bar(color='y')\n",
    "plt.xlabel('PROPERTY TYPE')\n",
    "plt.ylabel('AVERAGE RENT')\n",
    "plt.title('PROPERTY TYPE v/s AVERAGE RENT')"
   ]
  },
  {
   "cell_type": "code",
   "execution_count": null,
   "id": "177daf69",
   "metadata": {},
   "outputs": [],
   "source": []
  }
 ],
 "metadata": {
  "kernelspec": {
   "display_name": "Python 3",
   "language": "python",
   "name": "python3"
  },
  "language_info": {
   "codemirror_mode": {
    "name": "ipython",
    "version": 3
   },
   "file_extension": ".py",
   "mimetype": "text/x-python",
   "name": "python",
   "nbconvert_exporter": "python",
   "pygments_lexer": "ipython3",
   "version": "3.8.8"
  }
 },
 "nbformat": 4,
 "nbformat_minor": 5
}
